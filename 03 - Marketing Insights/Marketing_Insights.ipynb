{
 "cells": [
  {
   "cell_type": "code",
   "execution_count": 1,
   "metadata": {},
   "outputs": [
    {
     "data": {
      "application/vnd.jupyter.widget-view+json": {
       "model_id": "0d4f5cf2f3e241e5ab80f2e4d7a07741",
       "version_major": 2,
       "version_minor": 0
      },
      "text/plain": [
       "VBox()"
      ]
     },
     "metadata": {},
     "output_type": "display_data"
    },
    {
     "name": "stdout",
     "output_type": "stream",
     "text": [
      "Starting Spark application\n"
     ]
    },
    {
     "data": {
      "text/html": [
       "<table>\n",
       "<tr><th>ID</th><th>YARN Application ID</th><th>Kind</th><th>State</th><th>Spark UI</th><th>Driver log</th><th>Current session?</th></tr><tr><td>3</td><td>application_1604217164490_0004</td><td>pyspark</td><td>idle</td><td><a target=\"_blank\" href=\"http://ip-10-0-1-74.ec2.internal:20888/proxy/application_1604217164490_0004/\">Link</a></td><td><a target=\"_blank\" href=\"http://ip-10-0-1-122.ec2.internal:8042/node/containerlogs/container_1604217164490_0004_01_000001/livy\">Link</a></td><td>✔</td></tr></table>"
      ],
      "text/plain": [
       "<IPython.core.display.HTML object>"
      ]
     },
     "metadata": {},
     "output_type": "display_data"
    },
    {
     "data": {
      "application/vnd.jupyter.widget-view+json": {
       "model_id": "",
       "version_major": 2,
       "version_minor": 0
      },
      "text/plain": [
       "FloatProgress(value=0.0, bar_style='info', description='Progress:', layout=Layout(height='25px', width='50%'),…"
      ]
     },
     "metadata": {},
     "output_type": "display_data"
    },
    {
     "name": "stdout",
     "output_type": "stream",
     "text": [
      "SparkSession available as 'spark'.\n"
     ]
    },
    {
     "data": {
      "application/vnd.jupyter.widget-view+json": {
       "model_id": "",
       "version_major": 2,
       "version_minor": 0
      },
      "text/plain": [
       "FloatProgress(value=0.0, bar_style='info', description='Progress:', layout=Layout(height='25px', width='50%'),…"
      ]
     },
     "metadata": {},
     "output_type": "display_data"
    },
    {
     "name": "stdout",
     "output_type": "stream",
     "text": [
      "Collecting pandas\n",
      "  Using cached https://files.pythonhosted.org/packages/bf/4c/cb7da76f3a5e077e545f9cf8575b8f488a4e8ad60490838f89c5cdd5bb57/pandas-1.1.4-cp37-cp37m-manylinux1_x86_64.whl\n",
      "Requirement already satisfied: numpy>=1.15.4 in /usr/local/lib64/python3.7/site-packages (from pandas)\n",
      "Requirement already satisfied: pytz>=2017.2 in /usr/local/lib/python3.7/site-packages (from pandas)\n",
      "Collecting python-dateutil>=2.7.3 (from pandas)\n",
      "  Using cached https://files.pythonhosted.org/packages/d4/70/d60450c3dd48ef87586924207ae8907090de0b306af2bce5d134d78615cb/python_dateutil-2.8.1-py2.py3-none-any.whl\n",
      "Requirement already satisfied: six>=1.5 in /usr/local/lib/python3.7/site-packages (from python-dateutil>=2.7.3->pandas)\n",
      "Installing collected packages: python-dateutil, pandas\n",
      "Successfully installed pandas-1.1.4 python-dateutil-2.8.1\n",
      "\n",
      "Collecting np\n",
      "Installing collected packages: np\n",
      "Successfully installed np-1.0.2"
     ]
    }
   ],
   "source": [
    "from pyspark.sql import SparkSession\n",
    "from pyspark.sql import SQLContext\n",
    "from pyspark.sql import functions as f\n",
    "from pyspark.sql.functions import col, when, to_date, lit, expr, countDistinct, max, min, sum, concat, count, avg, desc, rank\n",
    "from pyspark.sql.window import Window\n",
    "import sys\n",
    "\n",
    "sc.install_pypi_package(\"pandas\")\n",
    "sc.install_pypi_package(\"np\")\n",
    "\n",
    "import np\n",
    "import pandas as pd\n",
    "\n",
    "\n"
   ]
  },
  {
   "cell_type": "markdown",
   "metadata": {},
   "source": [
    "<br><br><br>"
   ]
  },
  {
   "cell_type": "markdown",
   "metadata": {},
   "source": [
    "# DATA LOAD"
   ]
  },
  {
   "cell_type": "code",
   "execution_count": 2,
   "metadata": {},
   "outputs": [
    {
     "data": {
      "application/vnd.jupyter.widget-view+json": {
       "model_id": "7f9d279c48bf41fe886333c885397e54",
       "version_major": 2,
       "version_minor": 0
      },
      "text/plain": [
       "VBox()"
      ]
     },
     "metadata": {},
     "output_type": "display_data"
    },
    {
     "data": {
      "application/vnd.jupyter.widget-view+json": {
       "model_id": "",
       "version_major": 2,
       "version_minor": 0
      },
      "text/plain": [
       "FloatProgress(value=0.0, bar_style='info', description='Progress:', layout=Layout(height='25px', width='50%'),…"
      ]
     },
     "metadata": {},
     "output_type": "display_data"
    }
   ],
   "source": [
    "in_bucket = \"s3://tfmbigdata/Files_Segunda_Entrega/\"\n",
    "\n",
    "tickets = spark.read.format(\"json\").load(in_bucket+'tickets*.json')\n",
    "customers = spark.read.format(\"json\").load(in_bucket+'customers.json')\n",
    "products = spark.read.format(\"json\").load(in_bucket+'products.json')\n",
    "stores = spark.read.format(\"json\").load(in_bucket+'stores.json')\n",
    "clasificacion = spark.read.option(\"header\", True).format(\"csv\").load(in_bucket+'clasificacion_productos.csv')\n",
    "prediction = spark.read.format(\"json\").load('s3://mbde-tfm-grupo3/prediction/*.json')\n"
   ]
  },
  {
   "cell_type": "markdown",
   "metadata": {},
   "source": [
    "<br><br><br>"
   ]
  },
  {
   "cell_type": "markdown",
   "metadata": {},
   "source": [
    "# DISTRIBUCIÓN DEL % DE GASTO POR SEGMENTO"
   ]
  },
  {
   "cell_type": "code",
   "execution_count": 3,
   "metadata": {},
   "outputs": [
    {
     "data": {
      "application/vnd.jupyter.widget-view+json": {
       "model_id": "3a475ea5965b4d0ebd3baa6fbd783db4",
       "version_major": 2,
       "version_minor": 0
      },
      "text/plain": [
       "VBox()"
      ]
     },
     "metadata": {},
     "output_type": "display_data"
    },
    {
     "data": {
      "application/vnd.jupyter.widget-view+json": {
       "model_id": "",
       "version_major": 2,
       "version_minor": 0
      },
      "text/plain": [
       "FloatProgress(value=0.0, bar_style='info', description='Progress:', layout=Layout(height='25px', width='50%'),…"
      ]
     },
     "metadata": {},
     "output_type": "display_data"
    },
    {
     "name": "stdout",
     "output_type": "stream",
     "text": [
      "    segmento  spend_by_segment  total_spend   Spend %\n",
      "0       best        8937773.96  22455132.54  0.398028\n",
      "1       lost        1089857.15  22455132.54  0.048535\n",
      "2      loyal        1672148.96  22455132.54  0.074466\n",
      "3        new        5474910.14  22455132.54  0.243816\n",
      "4  promising        2494364.03  22455132.54  0.111082\n",
      "5       risk        2786078.30  22455132.54  0.124073"
     ]
    }
   ],
   "source": [
    "prediction = prediction.crossJoin(prediction.groupby().agg(f.sum('monetary').alias('total_spend')))\n",
    " \n",
    "prediction.head()    \n",
    "    \n",
    "aux = prediction.groupBy(\"segmento\")\\\n",
    "                         .agg(sum(\"monetary\").alias(\"spend_by_segment\"),\n",
    "                            max(\"total_spend\").alias(\"total_spend\"))\n",
    " \n",
    "spend = aux.withColumn(\"Spend %\", expr(\"spend_by_segment/total_spend\")).orderBy(\"segmento\").toPandas()\n",
    "spend.head(10)\n",
    "               \n",
    "\n"
   ]
  },
  {
   "cell_type": "markdown",
   "metadata": {},
   "source": [
    "<br><br><br>"
   ]
  },
  {
   "cell_type": "markdown",
   "metadata": {},
   "source": [
    "# DISTRIBUCIÓN DE LOS CLIENTES POR SEGMENTO"
   ]
  },
  {
   "cell_type": "code",
   "execution_count": 4,
   "metadata": {},
   "outputs": [
    {
     "data": {
      "application/vnd.jupyter.widget-view+json": {
       "model_id": "f5766421a7ac430190ad4542048c59c6",
       "version_major": 2,
       "version_minor": 0
      },
      "text/plain": [
       "VBox()"
      ]
     },
     "metadata": {},
     "output_type": "display_data"
    },
    {
     "data": {
      "application/vnd.jupyter.widget-view+json": {
       "model_id": "",
       "version_major": 2,
       "version_minor": 0
      },
      "text/plain": [
       "FloatProgress(value=0.0, bar_style='info', description='Progress:', layout=Layout(height='25px', width='50%'),…"
      ]
     },
     "metadata": {},
     "output_type": "display_data"
    },
    {
     "name": "stdout",
     "output_type": "stream",
     "text": [
      "    segmento  customer_count  total_customer_count  Customer%\n",
      "0       best           12123                 49729   0.243781\n",
      "1       lost            6689                 49729   0.134509\n",
      "2      loyal            6283                 49729   0.126345\n",
      "3        new            8035                 49729   0.161576\n",
      "4  promising            8782                 49729   0.176597\n",
      "5       risk            7817                 49729   0.157192"
     ]
    }
   ],
   "source": [
    "total_customer_count = prediction.count()\n",
    "prediction = prediction.withColumn('total_customer_count',lit(total_customer_count))\n",
    "\n",
    "\n",
    "customer_frequency = prediction.groupBy(\"segmento\")\\\n",
    "                        .agg(count(\"customerid\").alias(\"customer_count\"),\\\n",
    "                             max(\"total_customer_count\").alias(\"total_customer_count\"))\n",
    " \n",
    "customer_frequency = customer_frequency.withColumn(\"Customer%\", expr(\"customer_count/total_customer_count\")).orderBy(\"segmento\").toPandas()\n",
    "\n",
    "customer_frequency.head(10)\n"
   ]
  },
  {
   "cell_type": "markdown",
   "metadata": {},
   "source": [
    "<br><br><br>"
   ]
  },
  {
   "cell_type": "markdown",
   "metadata": {},
   "source": [
    "# PROMEDIO RMF POR SEGMENTO"
   ]
  },
  {
   "cell_type": "code",
   "execution_count": 5,
   "metadata": {},
   "outputs": [
    {
     "data": {
      "application/vnd.jupyter.widget-view+json": {
       "model_id": "f5113ec962fc4a6b99e2516db8974efe",
       "version_major": 2,
       "version_minor": 0
      },
      "text/plain": [
       "VBox()"
      ]
     },
     "metadata": {},
     "output_type": "display_data"
    },
    {
     "data": {
      "application/vnd.jupyter.widget-view+json": {
       "model_id": "",
       "version_major": 2,
       "version_minor": 0
      },
      "text/plain": [
       "FloatProgress(value=0.0, bar_style='info', description='Progress:', layout=Layout(height='25px', width='50%'),…"
      ]
     },
     "metadata": {},
     "output_type": "display_data"
    },
    {
     "name": "stdout",
     "output_type": "stream",
     "text": [
      "    segmento  frequency_avg  monetary_avg  recency_avg\n",
      "0       best      28.989524    737.257606     1.730925\n",
      "1       lost      11.547615    162.932748    19.086560\n",
      "2      loyal      24.337259    266.138622     3.406016\n",
      "3        new      17.484256    681.382718     9.787181\n",
      "4  promising      11.751993    284.031431     1.396607\n",
      "5       risk      12.381476    356.412729    16.614942"
     ]
    }
   ],
   "source": [
    "rfm_avg_by_segment = prediction.groupBy(\"segmento\")\\\n",
    "                        .agg(avg(\"frequency\").alias(\"frequency_avg\"),\\\n",
    "                             avg(\"monetary\").alias(\"monetary_avg\"),\\\n",
    "                             avg(\"recency\").alias(\"recency_avg\"))\n",
    "\n",
    "rfm_avg_by_segment = rfm_avg_by_segment.orderBy(\"segmento\").toPandas()\n",
    "rfm_avg_by_segment.head(10)"
   ]
  },
  {
   "cell_type": "markdown",
   "metadata": {},
   "source": [
    "<br><br><br>"
   ]
  },
  {
   "cell_type": "markdown",
   "metadata": {},
   "source": [
    "# GLOBAL DATASET GENERATION"
   ]
  },
  {
   "cell_type": "code",
   "execution_count": 6,
   "metadata": {},
   "outputs": [
    {
     "data": {
      "application/vnd.jupyter.widget-view+json": {
       "model_id": "48f08b086da243a2a24428190b3dabd1",
       "version_major": 2,
       "version_minor": 0
      },
      "text/plain": [
       "VBox()"
      ]
     },
     "metadata": {},
     "output_type": "display_data"
    },
    {
     "data": {
      "application/vnd.jupyter.widget-view+json": {
       "model_id": "",
       "version_major": 2,
       "version_minor": 0
      },
      "text/plain": [
       "FloatProgress(value=0.0, bar_style='info', description='Progress:', layout=Layout(height='25px', width='50%'),…"
      ]
     },
     "metadata": {},
     "output_type": "display_data"
    }
   ],
   "source": [
    "\n",
    "prediction_tickets = prediction.alias(\"p\")\\\n",
    "                     .join(tickets.alias(\"t\"),prediction.customerid == tickets.customerid,how='left')\\\n",
    "                     .select(\n",
    "                       \n",
    "                        col(\"p.segmento\").alias(\"segmento\"),\n",
    "                        col(\"p.prediction\").alias(\"prediction\"),\n",
    "                        col(\"t.ticketid\").alias(\"ticketid\"),\n",
    "                        col(\"t.productid\").alias(\"productid\"),\n",
    "                        col(\"t.customerid\").alias(\"customerid\"),\n",
    "                        col(\"t.storeid\").alias(\"storeid\"),\n",
    "                        col(\"t.originalamount\").alias(\"originalamount\"),\n",
    "                        col(\"t.extendedamount\").alias(\"extendedamount\"),\n",
    "                        col(\"t.quantity\").alias(\"quantity\"),\n",
    "                        col(\"t.datekey\").alias(\"datekey\"),\n",
    "                        col(\"t.cardtype\").alias(\"cardtype\"),\n",
    "                        col(\"t.totaldiscount\").alias(\"totaldiscount\")\n",
    "                     )\n",
    "\n",
    "\n",
    "prediction_tickets_customer = prediction_tickets.alias(\"pt\")\\\n",
    "                     .join(customers.alias(\"c\"),prediction_tickets.customerid == customers.customerid,how='left')\\\n",
    "                     .select(\n",
    "                        \"pt.*\",\n",
    "                         col(\"c.age\").alias(\"age\"),\n",
    "                         col(\"c.gender\").alias(\"gender\") \n",
    "                     )\n",
    "\n",
    "prediction_tickets_customer_store = prediction_tickets_customer.alias(\"ptc\")\\\n",
    "                     .join(stores.alias(\"s\"),prediction_tickets_customer.storeid == stores.storeid,how='left')\\\n",
    "                     .select(\n",
    "                        \"ptc.*\",\n",
    "                         col(\"s.city\").alias(\"city\")\n",
    "                     )\n",
    "\n",
    "prediction_tickets_customer_store_products = prediction_tickets_customer_store.alias(\"ptcs\")\\\n",
    "                     .join(products.alias(\"p\"),prediction_tickets_customer_store.productid == products.productid,how='left')\\\n",
    "                     .select(\n",
    "                        \"ptcs.*\",\n",
    "                         col(\"p.merchandisegroup\").alias(\"merchandisegroup\"),\n",
    "                         col(\"p.merchandisefamily\").alias(\"merchandisefamily\"),             \n",
    "                         col(\"p.vatdescription\").alias(\"vatdescription\"),\n",
    "                         col(\"p.article\").alias(\"article\"),\n",
    "                         \n",
    "                        \n",
    "                     )\n",
    "\n",
    "\n",
    "prediction_with_clasification = prediction_tickets_customer_store_products.alias(\"ptcs\")\\\n",
    "                    .join(clasificacion.alias(\"c\"),prediction_tickets_customer_store_products.merchandisefamily == clasificacion.merchandisefamily,how='left')\\\n",
    "                     .select(\n",
    "                        \"ptcs.*\",\n",
    "                         col(\"c.healthy\").alias(\"healthy\"),\n",
    "                         col(\"c.unhealthy\").alias(\"unhealthy\")\n",
    "                    )\n",
    "\n",
    "    \n",
    "\n",
    "\n",
    "dataset = prediction_with_clasification.drop_duplicates()\n",
    "\n",
    "\n",
    "\n"
   ]
  },
  {
   "cell_type": "markdown",
   "metadata": {},
   "source": [
    "<br><br><br>"
   ]
  },
  {
   "cell_type": "markdown",
   "metadata": {},
   "source": [
    "<br><br><br>"
   ]
  },
  {
   "cell_type": "markdown",
   "metadata": {},
   "source": [
    "# MEDIA DE EDAD POR SEGMENTO"
   ]
  },
  {
   "cell_type": "code",
   "execution_count": 7,
   "metadata": {},
   "outputs": [
    {
     "data": {
      "application/vnd.jupyter.widget-view+json": {
       "model_id": "a1a5ef69a45b41ea893eece24e6af924",
       "version_major": 2,
       "version_minor": 0
      },
      "text/plain": [
       "VBox()"
      ]
     },
     "metadata": {},
     "output_type": "display_data"
    },
    {
     "data": {
      "application/vnd.jupyter.widget-view+json": {
       "model_id": "",
       "version_major": 2,
       "version_minor": 0
      },
      "text/plain": [
       "FloatProgress(value=0.0, bar_style='info', description='Progress:', layout=Layout(height='25px', width='50%'),…"
      ]
     },
     "metadata": {},
     "output_type": "display_data"
    },
    {
     "name": "stdout",
     "output_type": "stream",
     "text": [
      "    segmento    age_avg\n",
      "0        new  46.191441\n",
      "1       lost  45.279518\n",
      "2  promising  44.089908\n",
      "3      loyal  47.042017\n",
      "4       best  47.091270\n",
      "5       risk  44.540254"
     ]
    }
   ],
   "source": [
    "df = dataset.select(\"segmento\",\"customerid\",\"age\").filter(dataset.age.isNotNull()).drop_duplicates()\n",
    "\n",
    "age_avg_by_segment = df.groupBy(\"segmento\")\\\n",
    "                        .agg(avg(\"age\").alias(\"age_avg\")).toPandas()\n",
    "\n",
    "age_avg_by_segment.head(10)"
   ]
  },
  {
   "cell_type": "markdown",
   "metadata": {},
   "source": [
    "<br><br><br>"
   ]
  },
  {
   "cell_type": "markdown",
   "metadata": {},
   "source": [
    "# %GENERO POR SEGMENTO"
   ]
  },
  {
   "cell_type": "code",
   "execution_count": 8,
   "metadata": {},
   "outputs": [
    {
     "data": {
      "application/vnd.jupyter.widget-view+json": {
       "model_id": "f0f40f97bd8a42a3b7369babd6937ccd",
       "version_major": 2,
       "version_minor": 0
      },
      "text/plain": [
       "VBox()"
      ]
     },
     "metadata": {},
     "output_type": "display_data"
    },
    {
     "data": {
      "application/vnd.jupyter.widget-view+json": {
       "model_id": "",
       "version_major": 2,
       "version_minor": 0
      },
      "text/plain": [
       "FloatProgress(value=0.0, bar_style='info', description='Progress:', layout=Layout(height='25px', width='50%'),…"
      ]
     },
     "metadata": {},
     "output_type": "display_data"
    },
    {
     "name": "stdout",
     "output_type": "stream",
     "text": [
      "     segmento new_gender  gender_count  total_gender_count  Gendegender_countr%\n",
      "0        best       Male           344                1005             0.342289\n",
      "1        best     Female           661                1005             0.657711\n",
      "2        lost       Male           143                 415             0.344578\n",
      "3        lost     Female           272                 415             0.655422\n",
      "4       loyal       Male           182                 474             0.383966\n",
      "5       loyal     Female           292                 474             0.616034\n",
      "6         new       Male           157                 444             0.353604\n",
      "7         new     Female           287                 444             0.646396\n",
      "8   promising     Female           367                 541             0.678373\n",
      "9   promising       Male           174                 541             0.321627\n",
      "10       risk       Male           172                 471             0.365180\n",
      "11       risk     Female           299                 471             0.634820"
     ]
    }
   ],
   "source": [
    "dataset = dataset.withColumn(\"new_gender\", when(col(\"gender\") == \"M\",\"Male\")\\\n",
    "                                 .when(col(\"gender\") == \"F\",\"Female\")\\\n",
    "                                 .otherwise(\"Unknown\"))\n",
    "\n",
    "df = dataset.select(\"new_gender\",\"segmento\",\"customerid\").filter(dataset.new_gender != \"Unknown\").drop_duplicates()\n",
    "\n",
    "\n",
    "total_gender_count_by_segment = df.groupBy(\"segmento\")\\\n",
    "                        .agg(count(\"customerid\").alias(\"total_gender_count\"))\n",
    "\n",
    "\n",
    "gender_count_by_segment = df.groupBy(\"segmento\",\"new_gender\")\\\n",
    "                        .agg(count(\"customerid\").alias(\"gender_count\"))\n",
    "\n",
    "\n",
    "gender_analysis = gender_count_by_segment.alias(\"gend\")\\\n",
    "                     .join(total_gender_count_by_segment.alias(\"totgend\"), gender_count_by_segment.segmento == total_gender_count_by_segment.segmento,how='left')\\\n",
    "                     .select(         \n",
    "                        col(\"gend.segmento\").alias(\"segmento\"),\n",
    "                        col(\"gend.new_gender\").alias(\"new_gender\"),\n",
    "                        col(\"gend.gender_count\").alias(\"gender_count\"),\n",
    "                        col(\"totgend.total_gender_count\").alias(\"total_gender_count\")\n",
    "                     )\n",
    "\n",
    "gender_freq = gender_analysis.withColumn(\"Gendegender_countr%\", expr(\"gender_count/total_gender_count\")).orderBy(\"segmento\").toPandas()\n",
    "\n",
    "gender_freq.head(12)"
   ]
  },
  {
   "cell_type": "markdown",
   "metadata": {},
   "source": [
    "<br><br><br>"
   ]
  },
  {
   "cell_type": "markdown",
   "metadata": {},
   "source": [
    "# TOP 10 MERCHANDISE FAMILY BY SEGMENT"
   ]
  },
  {
   "cell_type": "code",
   "execution_count": 9,
   "metadata": {},
   "outputs": [
    {
     "data": {
      "application/vnd.jupyter.widget-view+json": {
       "model_id": "72318ab095524fefaa5dc018c5169112",
       "version_major": 2,
       "version_minor": 0
      },
      "text/plain": [
       "VBox()"
      ]
     },
     "metadata": {},
     "output_type": "display_data"
    },
    {
     "data": {
      "application/vnd.jupyter.widget-view+json": {
       "model_id": "",
       "version_major": 2,
       "version_minor": 0
      },
      "text/plain": [
       "FloatProgress(value=0.0, bar_style='info', description='Progress:', layout=Layout(height='25px', width='50%'),…"
      ]
     },
     "metadata": {},
     "output_type": "display_data"
    },
    {
     "name": "stdout",
     "output_type": "stream",
     "text": [
      "+---------+--------------------+-------------+----+\n",
      "| segmento|   merchandisefamily|product_count|rank|\n",
      "+---------+--------------------+-------------+----+\n",
      "|      new|Baguette, panecil...|        77025|   1|\n",
      "|      new|               Pollo|        53148|   2|\n",
      "|      new|               Cerdo|        51635|   3|\n",
      "|      new|     Frutas de hueso|        38189|   4|\n",
      "|      new|             Tomates|        34212|   5|\n",
      "|      new|Verduras (Feingem...|        32936|   6|\n",
      "|      new|    Bananas/Plátanos|        31577|   7|\n",
      "|      new|  Pasteles, bollería|        27884|   8|\n",
      "|      new|    Patatas/cebollas|        27397|   9|\n",
      "|      new|              Huevos|        27369|  10|\n",
      "|     lost|Baguette, panecil...|        31532|   1|\n",
      "|     lost|  Pasteles, bollería|        12199|   2|\n",
      "|     lost|               Pollo|         9016|   3|\n",
      "|     lost|     Frutas de hueso|         8852|   4|\n",
      "|     lost|               Cerdo|         8557|   5|\n",
      "|     lost|    Bananas/Plátanos|         8182|   6|\n",
      "|     lost|             Tomates|         8044|   7|\n",
      "|     lost|             Melones|         6723|   8|\n",
      "|     lost|               Otros|         6631|   9|\n",
      "|     lost|Verduras (Feingem...|         6434|  10|\n",
      "|promising|Baguette, panecil...|        46523|   1|\n",
      "|promising|               Pollo|        21579|   2|\n",
      "|promising|               Cerdo|        20727|   3|\n",
      "|promising|     Frutas de hueso|        18885|   4|\n",
      "|promising|  Pasteles, bollería|        18369|   5|\n",
      "|promising|             Tomates|        16230|   6|\n",
      "|promising|    Bananas/Plátanos|        15083|   7|\n",
      "|promising|Verduras (Feingem...|        14124|   8|\n",
      "|promising|              Huevos|        12744|   9|\n",
      "|promising|    Patatas/cebollas|        12285|  10|\n",
      "|    loyal|Baguette, panecil...|        72038|   1|\n",
      "|    loyal|  Pasteles, bollería|        21078|   2|\n",
      "|    loyal|     Frutas de hueso|        15347|   3|\n",
      "|    loyal|               Pollo|        15169|   4|\n",
      "|    loyal|               Cerdo|        15157|   5|\n",
      "|    loyal|    Bananas/Plátanos|        14463|   6|\n",
      "|    loyal|             Tomates|        12899|   7|\n",
      "|    loyal|               Otros|        11983|   8|\n",
      "|    loyal|             Melones|        11658|   9|\n",
      "|    loyal|              Huevos|        10869|  10|\n",
      "|     best|Baguette, panecil...|       190276|   1|\n",
      "|     best|               Pollo|        87025|   2|\n",
      "|     best|               Cerdo|        85360|   3|\n",
      "|     best|     Frutas de hueso|        67845|   4|\n",
      "|     best|             Tomates|        59919|   5|\n",
      "|     best|  Pasteles, bollería|        59459|   6|\n",
      "|     best|    Bananas/Plátanos|        58583|   7|\n",
      "|     best|Verduras (Feingem...|        53025|   8|\n",
      "|     best|              Huevos|        47321|   9|\n",
      "|     best|             Melones|        45943|  10|\n",
      "|     risk|Baguette, panecil...|        46169|   1|\n",
      "|     risk|               Pollo|        24965|   2|\n",
      "|     risk|               Cerdo|        24107|   3|\n",
      "|     risk|     Frutas de hueso|        20280|   4|\n",
      "|     risk|             Tomates|        17944|   5|\n",
      "|     risk|  Pasteles, bollería|        17621|   6|\n",
      "|     risk|    Bananas/Plátanos|        17237|   7|\n",
      "|     risk|Verduras (Feingem...|        16931|   8|\n",
      "|     risk|              Huevos|        14336|   9|\n",
      "|     risk|    Patatas/cebollas|        13572|  10|\n",
      "+---------+--------------------+-------------+----+"
     ]
    }
   ],
   "source": [
    "df = dataset.select(\"segmento\",\"productid\",\"merchandisefamily\").filter(dataset.merchandisefamily.isNotNull())\n",
    "\n",
    "merchandisefamily = df.groupBy(\"segmento\",\"merchandisefamily\")\\\n",
    "                        .agg(count(\"productid\").alias(\"product_count\"))\n",
    "\n",
    "\n",
    "window = Window.partitionBy(merchandisefamily['segmento']).orderBy(merchandisefamily['product_count'].desc())\n",
    "\n",
    "merchandisefamily.select('*', rank().over(window).alias('rank')).filter(col('rank') <= 10).show(500) \n",
    "\n"
   ]
  },
  {
   "cell_type": "markdown",
   "metadata": {},
   "source": [
    "<br><br><br>"
   ]
  },
  {
   "cell_type": "markdown",
   "metadata": {},
   "source": [
    "# LAST 10 MERCHANDISE FAMILY BY SEGMENT"
   ]
  },
  {
   "cell_type": "code",
   "execution_count": 10,
   "metadata": {},
   "outputs": [
    {
     "data": {
      "application/vnd.jupyter.widget-view+json": {
       "model_id": "38e82c258598490f8103aa256b87346b",
       "version_major": 2,
       "version_minor": 0
      },
      "text/plain": [
       "VBox()"
      ]
     },
     "metadata": {},
     "output_type": "display_data"
    },
    {
     "data": {
      "application/vnd.jupyter.widget-view+json": {
       "model_id": "",
       "version_major": 2,
       "version_minor": 0
      },
      "text/plain": [
       "FloatProgress(value=0.0, bar_style='info', description='Progress:', layout=Layout(height='25px', width='50%'),…"
      ]
     },
     "metadata": {},
     "output_type": "display_data"
    },
    {
     "name": "stdout",
     "output_type": "stream",
     "text": [
      "+---------+--------------------+-------------+----+\n",
      "| segmento|   merchandisefamily|product_count|rank|\n",
      "+---------+--------------------+-------------+----+\n",
      "|      new|  Conservas de fruta|            2|   1|\n",
      "|      new|Medicamentos de v...|           16|   2|\n",
      "|      new|              Bolsas|           16|   2|\n",
      "|      new|Hot Convenience F...|           32|   4|\n",
      "|      new|Vino rosado de Eu...|           35|   5|\n",
      "|      new|Especias, mezcla ...|           64|   6|\n",
      "|      new|       Otros aceites|           70|   7|\n",
      "|      new|              Quesos|           85|   8|\n",
      "|      new|Bebidas espirituo...|           90|   9|\n",
      "|      new|            Bombones|          109|  10|\n",
      "|     lost|  Conservas de fruta|            1|   1|\n",
      "|     lost|              Bolsas|            4|   2|\n",
      "|     lost|Medicamentos de v...|            5|   3|\n",
      "|     lost|              Quesos|            7|   4|\n",
      "|     lost|Vino rosado de Eu...|            9|   5|\n",
      "|     lost|Especias, mezcla ...|           11|   6|\n",
      "|     lost|       Otros aceites|           12|   7|\n",
      "|     lost|Hot Convenience F...|           14|   8|\n",
      "|     lost|Bebidas espirituo...|           17|   9|\n",
      "|     lost|Delicatessen de p...|           25|  10|\n",
      "|promising|Medicamentos de v...|            4|   1|\n",
      "|promising|Hot Convenience F...|            9|   2|\n",
      "|promising|              Bolsas|           12|   3|\n",
      "|promising|Vino rosado de Eu...|           13|   4|\n",
      "|promising|Especias, mezcla ...|           20|   5|\n",
      "|promising|       Otros aceites|           26|   6|\n",
      "|promising|Bebidas espirituo...|           26|   6|\n",
      "|promising|Delicatessen de p...|           44|   8|\n",
      "|promising|Vermut, jerez, op...|           46|   9|\n",
      "|promising|Embutidos / salch...|           48|  10|\n",
      "|promising|            Bombones|           48|  10|\n",
      "|    loyal|Vino rosado de Eu...|            1|   1|\n",
      "|    loyal|Medicamentos de v...|            1|   1|\n",
      "|    loyal|  Conservas de fruta|            3|   3|\n",
      "|    loyal|              Bolsas|            8|   4|\n",
      "|    loyal|Bebidas espirituo...|           16|   5|\n",
      "|    loyal|Hot Convenience F...|           16|   5|\n",
      "|    loyal|Especias, mezcla ...|           16|   5|\n",
      "|    loyal|       Otros aceites|           23|   8|\n",
      "|    loyal|Bebidas espirituo...|           36|   9|\n",
      "|    loyal|Delicatessen de p...|           36|   9|\n",
      "|     best|Medicamentos de v...|           29|   1|\n",
      "|     best|              Bolsas|           40|   2|\n",
      "|     best|Vino rosado de Eu...|           40|   2|\n",
      "|     best|Hot Convenience F...|           55|   4|\n",
      "|     best|Especias, mezcla ...|          111|   5|\n",
      "|     best|       Otros aceites|          133|   6|\n",
      "|     best|Bebidas espirituo...|          156|   7|\n",
      "|     best|            Bombones|          171|   8|\n",
      "|     best|              Quesos|          173|   9|\n",
      "|     best|Delicatessen de p...|          211|  10|\n",
      "|     risk|Papillas de cereales|            1|   1|\n",
      "|     risk|  Conservas de fruta|            4|   2|\n",
      "|     risk|              Bolsas|            7|   3|\n",
      "|     risk|Medicamentos de v...|            8|   4|\n",
      "|     risk|Hot Convenience F...|           18|   5|\n",
      "|     risk|Vino rosado de Eu...|           21|   6|\n",
      "|     risk|Especias, mezcla ...|           28|   7|\n",
      "|     risk|       Otros aceites|           34|   8|\n",
      "|     risk|              Quesos|           42|   9|\n",
      "|     risk|Embutidos / salch...|           51|  10|\n",
      "+---------+--------------------+-------------+----+"
     ]
    }
   ],
   "source": [
    "window = Window.partitionBy(merchandisefamily['segmento']).orderBy(merchandisefamily['product_count'].asc())\n",
    "\n",
    "merchandisefamily.select('*', rank().over(window).alias('rank')).filter(col('rank') <= 10).show(500) "
   ]
  },
  {
   "cell_type": "markdown",
   "metadata": {},
   "source": [
    "<br><br><br>"
   ]
  },
  {
   "cell_type": "markdown",
   "metadata": {},
   "source": [
    "# Promedio de cantidad de productos por compra"
   ]
  },
  {
   "cell_type": "code",
   "execution_count": 11,
   "metadata": {
    "scrolled": true
   },
   "outputs": [
    {
     "data": {
      "application/vnd.jupyter.widget-view+json": {
       "model_id": "760e45a58a3b4510b7932e740dd076ca",
       "version_major": 2,
       "version_minor": 0
      },
      "text/plain": [
       "VBox()"
      ]
     },
     "metadata": {},
     "output_type": "display_data"
    },
    {
     "data": {
      "application/vnd.jupyter.widget-view+json": {
       "model_id": "",
       "version_major": 2,
       "version_minor": 0
      },
      "text/plain": [
       "FloatProgress(value=0.0, bar_style='info', description='Progress:', layout=Layout(height='25px', width='50%'),…"
      ]
     },
     "metadata": {},
     "output_type": "display_data"
    },
    {
     "name": "stdout",
     "output_type": "stream",
     "text": [
      "+---------+------------------+\n",
      "| segmento|avg_purchase_count|\n",
      "+---------+------------------+\n",
      "|      new|19.136314667395883|\n",
      "|     lost|  7.84063677637989|\n",
      "|promising|11.951424974510541|\n",
      "|    loyal|6.6475823392820415|\n",
      "|     best|12.874095930968231|\n",
      "|     risk|14.364542478402068|\n",
      "+---------+------------------+"
     ]
    }
   ],
   "source": [
    "df = dataset.select(\"segmento\",\"customerid\",\"ticketid\",\"productid\",\"quantity\").drop_duplicates()\n",
    "\n",
    "average_quantity_per_customer =  df.groupBy(\"segmento\", \"customerid\")\\\n",
    "                        .agg((f.count(\"productid\")/f.countDistinct(\"ticketid\")).alias(\"avg_purchase_count\")).sort(desc(\"avg_purchase_count\"))\n",
    "\n",
    "average_quantity_per_segment = average_quantity_per_customer.groupBy(\"segmento\")\\\n",
    "                        .agg(f.mean(\"avg_purchase_count\").alias(\"avg_purchase_count\"))\n",
    "\n",
    "\n",
    "average_quantity_per_segment.show()"
   ]
  },
  {
   "cell_type": "markdown",
   "metadata": {},
   "source": [
    "<br><br><br>"
   ]
  },
  {
   "cell_type": "markdown",
   "metadata": {},
   "source": [
    "<br><br><br>"
   ]
  },
  {
   "cell_type": "markdown",
   "metadata": {},
   "source": [
    "# Distribucion de productos de acuerdo a su VAT"
   ]
  },
  {
   "cell_type": "code",
   "execution_count": 12,
   "metadata": {
    "scrolled": true
   },
   "outputs": [
    {
     "data": {
      "application/vnd.jupyter.widget-view+json": {
       "model_id": "cb9eabc3050046c2890898a4e0aa7801",
       "version_major": 2,
       "version_minor": 0
      },
      "text/plain": [
       "VBox()"
      ]
     },
     "metadata": {},
     "output_type": "display_data"
    },
    {
     "data": {
      "application/vnd.jupyter.widget-view+json": {
       "model_id": "",
       "version_major": 2,
       "version_minor": 0
      },
      "text/plain": [
       "FloatProgress(value=0.0, bar_style='info', description='Progress:', layout=Layout(height='25px', width='50%'),…"
      ]
     },
     "metadata": {},
     "output_type": "display_data"
    },
    {
     "name": "stdout",
     "output_type": "stream",
     "text": [
      "+---------+--------------+------------------+\n",
      "| segmento|vatdescription|     Relative_Freq|\n",
      "+---------+--------------+------------------+\n",
      "|     risk|     Ordinario|  5.45607935806331|\n",
      "|     risk|      Reducido| 47.10461221991772|\n",
      "|     risk| Superreducido|47.439308422018975|\n",
      "|promising| Superreducido| 46.96376546645645|\n",
      "|promising|     Ordinario| 5.193562134807649|\n",
      "|promising|      Reducido|  47.8426723987359|\n",
      "|      new|     Ordinario| 5.422638078331552|\n",
      "|      new| Superreducido|47.297910110362395|\n",
      "|      new|      Reducido| 47.27945181130605|\n",
      "|    loyal| Superreducido|50.359052297337634|\n",
      "|    loyal|      Reducido| 46.08326322360029|\n",
      "|    loyal|     Ordinario|3.5576844790620674|\n",
      "|     lost|      Reducido|47.367764759129344|\n",
      "|     lost| Superreducido| 48.26465059784692|\n",
      "|     lost|     Ordinario| 4.367584643023734|\n",
      "|     best| Superreducido| 48.37938330987595|\n",
      "|     best|      Reducido| 46.76233505625592|\n",
      "|     best|     Ordinario| 4.858281633868127|\n",
      "+---------+--------------+------------------+"
     ]
    }
   ],
   "source": [
    "df = dataset.select(\"segmento\",\"customerid\",\"ticketid\",\"productid\",\"vatdescription\").filter(dataset.vatdescription.isNotNull()).drop_duplicates()\n",
    "\n",
    "vat_distribution =  df.groupBy(\"segmento\", \"vatdescription\")\\\n",
    "                        .agg(f.count(\"productid\").alias(\"vat_quantity\")).sort(desc(\"segmento\"))\\\n",
    "                        .withColumn('Relative_Freq', f.col('vat_quantity')/f.sum('vat_quantity').over(Window.partitionBy('segmento'))*100)\\\n",
    "                        .drop(\"vat_quantity\")\n",
    "\n",
    "\n",
    "vat_distribution.show()\n"
   ]
  },
  {
   "cell_type": "markdown",
   "metadata": {},
   "source": [
    "<br><br><br>"
   ]
  },
  {
   "cell_type": "markdown",
   "metadata": {},
   "source": [
    "<br><br><br>"
   ]
  },
  {
   "cell_type": "markdown",
   "metadata": {},
   "source": [
    "# Healthy vs Unhealthy Products"
   ]
  },
  {
   "cell_type": "code",
   "execution_count": 13,
   "metadata": {
    "scrolled": true
   },
   "outputs": [
    {
     "data": {
      "application/vnd.jupyter.widget-view+json": {
       "model_id": "7d1da6b666ed4ea2a00e95364c8abf47",
       "version_major": 2,
       "version_minor": 0
      },
      "text/plain": [
       "VBox()"
      ]
     },
     "metadata": {},
     "output_type": "display_data"
    },
    {
     "data": {
      "application/vnd.jupyter.widget-view+json": {
       "model_id": "",
       "version_major": 2,
       "version_minor": 0
      },
      "text/plain": [
       "FloatProgress(value=0.0, bar_style='info', description='Progress:', layout=Layout(height='25px', width='50%'),…"
      ]
     },
     "metadata": {},
     "output_type": "display_data"
    },
    {
     "name": "stdout",
     "output_type": "stream",
     "text": [
      "+---------+-------+---------+------------------+\n",
      "| segmento|healthy|unhealthy|     Relative_Freq|\n",
      "+---------+-------+---------+------------------+\n",
      "|     risk|      0|        0| 5.668712599130977|\n",
      "|     risk|      0|        1| 32.47910673279667|\n",
      "|     risk|      1|        0| 61.85218066807236|\n",
      "|promising|      1|        0| 59.92817764809853|\n",
      "|promising|      0|        0|5.8556726097792495|\n",
      "|promising|      0|        1| 34.21614974212222|\n",
      "|      new|      1|        0| 64.08576376845934|\n",
      "|      new|      0|        1|30.413148216192827|\n",
      "|      new|      0|        0| 5.501088015347827|\n",
      "|    loyal|      0|        1| 40.43310792063587|\n",
      "|    loyal|      0|        0| 5.705588892938943|\n",
      "|    loyal|      1|        0| 53.86130318642519|\n",
      "|     lost|      0|        0|  6.11913131678037|\n",
      "|     lost|      1|        0|56.134183675832396|\n",
      "|     lost|      0|        1|37.746685007387235|\n",
      "|     best|      1|        0|61.200201122179145|\n",
      "|     best|      0|        0| 5.381051011839487|\n",
      "|     best|      0|        1|33.418747865981366|\n",
      "+---------+-------+---------+------------------+"
     ]
    }
   ],
   "source": [
    "df = dataset.select(\"segmento\",\"customerid\",\"ticketid\",\"productid\",\"healthy\",\"unhealthy\").filter(dataset.healthy.isNotNull()).drop_duplicates()\n",
    "\n",
    "clasification_distribution =  df.groupBy(\"segmento\", \"healthy\", \"unhealthy\")\\\n",
    "                        .agg(f.count(\"productid\").alias(\"product_quantity\")).sort(desc(\"segmento\"))\\\n",
    "                        .withColumn('Relative_Freq', f.col('product_quantity')/f.sum('product_quantity').over(Window.partitionBy('segmento'))*100)\\\n",
    "                        .drop(\"product_quantity\")\n",
    "                       \n",
    "\n",
    "clasification_distribution.show()\n"
   ]
  },
  {
   "cell_type": "markdown",
   "metadata": {},
   "source": [
    "<br><br><br>"
   ]
  },
  {
   "cell_type": "markdown",
   "metadata": {},
   "source": [
    "<br><br><br>"
   ]
  },
  {
   "cell_type": "markdown",
   "metadata": {},
   "source": [
    "# Distribucion de Productos comprados con Descuento"
   ]
  },
  {
   "cell_type": "code",
   "execution_count": 14,
   "metadata": {
    "scrolled": true
   },
   "outputs": [
    {
     "data": {
      "application/vnd.jupyter.widget-view+json": {
       "model_id": "9e37d0347d1c458982400f0db2f43d01",
       "version_major": 2,
       "version_minor": 0
      },
      "text/plain": [
       "VBox()"
      ]
     },
     "metadata": {},
     "output_type": "display_data"
    },
    {
     "data": {
      "application/vnd.jupyter.widget-view+json": {
       "model_id": "",
       "version_major": 2,
       "version_minor": 0
      },
      "text/plain": [
       "FloatProgress(value=0.0, bar_style='info', description='Progress:', layout=Layout(height='25px', width='50%'),…"
      ]
     },
     "metadata": {},
     "output_type": "display_data"
    },
    {
     "name": "stdout",
     "output_type": "stream",
     "text": [
      "+---------+--------+------------------+\n",
      "| segmento|Discount|        Percentage|\n",
      "+---------+--------+------------------+\n",
      "|     risk|      NO| 83.00535241474061|\n",
      "|     risk|     YES|16.994647585259397|\n",
      "|promising|      NO| 82.37159854669945|\n",
      "|promising|     YES| 17.62840145330055|\n",
      "|      new|      NO| 81.54887061259244|\n",
      "|      new|     YES|18.451129387407562|\n",
      "|    loyal|      NO| 74.81516004897856|\n",
      "|    loyal|     YES| 25.18483995102144|\n",
      "|     lost|      NO|  81.6323418560524|\n",
      "|     lost|     YES|18.367658143947597|\n",
      "|     best|      NO| 76.57293386296733|\n",
      "|     best|     YES|23.427066137032668|\n",
      "+---------+--------+------------------+"
     ]
    }
   ],
   "source": [
    "df = dataset.select(\"segmento\",\"customerid\",\"ticketid\",\"productid\",\"originalamount\",\"extendedamount\").filter(dataset.originalamount.isNotNull()).drop_duplicates()\n",
    "\n",
    "discount_distribution =  df.groupBy(\"segmento\", \"ticketid\", \"productid\")\\\n",
    "                        .agg(when(f.sum('originalamount')-f.sum('extendedamount')>0,\"YES\").otherwise(\"NO\").alias(\"Discount\"))\\\n",
    "                        .sort(desc(\"segmento\"))\n",
    "                                                                                                                                                                                                                                                                                                                                                                                                                                                                                                                                                                                                                                                                           \n",
    "discount_distribution = discount_distribution.groupBy(\"segmento\",\"Discount\")\\\n",
    "                        .agg(f.count('productid').alias(\"Total_Products\"))\\\n",
    "                        .withColumn('Percentage', f.col('Total_Products')/f.sum('Total_Products').over(Window.partitionBy('segmento'))*100)\\\n",
    "                        .drop(\"Total_Products\")\n",
    "                       \n",
    "\n",
    "discount_distribution.show()\n"
   ]
  },
  {
   "cell_type": "markdown",
   "metadata": {},
   "source": [
    "<br><br><br>"
   ]
  },
  {
   "cell_type": "markdown",
   "metadata": {},
   "source": [
    "<br><br><br>"
   ]
  },
  {
   "cell_type": "markdown",
   "metadata": {},
   "source": [
    "# Total Gastos"
   ]
  },
  {
   "cell_type": "code",
   "execution_count": 15,
   "metadata": {},
   "outputs": [
    {
     "data": {
      "application/vnd.jupyter.widget-view+json": {
       "model_id": "383f8f727d0f4fcb826205b571d15363",
       "version_major": 2,
       "version_minor": 0
      },
      "text/plain": [
       "VBox()"
      ]
     },
     "metadata": {},
     "output_type": "display_data"
    },
    {
     "data": {
      "application/vnd.jupyter.widget-view+json": {
       "model_id": "",
       "version_major": 2,
       "version_minor": 0
      },
      "text/plain": [
       "FloatProgress(value=0.0, bar_style='info', description='Progress:', layout=Layout(height='25px', width='50%'),…"
      ]
     },
     "metadata": {},
     "output_type": "display_data"
    },
    {
     "name": "stdout",
     "output_type": "stream",
     "text": [
      "+------------------+\n",
      "| Total_in_Millions|\n",
      "+------------------+\n",
      "|19.492447149998647|\n",
      "+------------------+"
     ]
    }
   ],
   "source": [
    "total_amount = dataset.agg((f.sum(\"extendedamount\")/1000000).alias(\"Total_in_Millions\"))\n",
    "total_amount.show()"
   ]
  },
  {
   "cell_type": "markdown",
   "metadata": {},
   "source": [
    "<br><br><br>"
   ]
  },
  {
   "cell_type": "markdown",
   "metadata": {},
   "source": [
    "# Top Products"
   ]
  },
  {
   "cell_type": "code",
   "execution_count": 16,
   "metadata": {},
   "outputs": [
    {
     "data": {
      "application/vnd.jupyter.widget-view+json": {
       "model_id": "c196ac26a0da47c9aede455e8b9495ea",
       "version_major": 2,
       "version_minor": 0
      },
      "text/plain": [
       "VBox()"
      ]
     },
     "metadata": {},
     "output_type": "display_data"
    },
    {
     "data": {
      "application/vnd.jupyter.widget-view+json": {
       "model_id": "",
       "version_major": 2,
       "version_minor": 0
      },
      "text/plain": [
       "FloatProgress(value=0.0, bar_style='info', description='Progress:', layout=Layout(height='25px', width='50%'),…"
      ]
     },
     "metadata": {},
     "output_type": "display_data"
    },
    {
     "name": "stdout",
     "output_type": "stream",
     "text": [
      "+---------+------------------+-------------+----+\n",
      "| segmento|           article|product_count|rank|\n",
      "+---------+------------------+-------------+----+\n",
      "|      new|            Banana|        16740|   1|\n",
      "|      new|   Huevos L libres|        12259|   2|\n",
      "|      new|Plátano Canario FP|        10266|   3|\n",
      "|      new|      Barra de pan|        10135|   4|\n",
      "|      new|Melón Piel de Sapo|         9591|   5|\n",
      "|     lost|            Banana|         4493|   1|\n",
      "|     lost|      Barra de pan|         3967|   2|\n",
      "|     lost|          Baguette|         3545|   3|\n",
      "|     lost|Plátano Canario FP|         2784|   4|\n",
      "|     lost|Melón Piel de Sapo|         2763|   5|\n",
      "|promising|            Banana|         8270|   1|\n",
      "|promising|      Barra de pan|         5778|   2|\n",
      "|promising|          Baguette|         5684|   3|\n",
      "|promising|   Huevos L libres|         5446|   4|\n",
      "|promising|Melón Piel de Sapo|         4879|   5|\n",
      "|    loyal|      Barra de pan|         9976|   1|\n",
      "|    loyal|            Banana|         9186|   2|\n",
      "|    loyal|          Baguette|         8620|   3|\n",
      "|    loyal|     Barra gallega|         5973|   4|\n",
      "|    loyal|Melón Piel de Sapo|         5356|   5|\n",
      "|     best|            Banana|        33390|   1|\n",
      "|     best|      Barra de pan|        26704|   2|\n",
      "|     best|          Baguette|        24110|   3|\n",
      "|     best|   Huevos L libres|        21810|   4|\n",
      "|     best|Melón Piel de Sapo|        19620|   5|\n",
      "|     risk|            Banana|         8738|   1|\n",
      "|     risk|   Huevos L libres|         6451|   2|\n",
      "|     risk|      Barra de pan|         6029|   3|\n",
      "|     risk|Plátano Canario FP|         5993|   4|\n",
      "|     risk|          Baguette|         5462|   5|\n",
      "+---------+------------------+-------------+----+"
     ]
    }
   ],
   "source": [
    "df = dataset.select(\"segmento\",\"article\").filter(dataset.article.isNotNull())\n",
    "\n",
    "bestproducts = df.groupBy(\"segmento\",\"article\")\\\n",
    "                        .agg(count(\"article\").alias(\"product_count\"))                        \n",
    "\n",
    "\n",
    "window = Window.partitionBy(bestproducts['segmento']).orderBy(bestproducts['product_count'].desc())\n",
    "\n",
    "bestproducts.select('*', rank().over(window).alias('rank')).filter(col('rank') <= 5).show(30) \n"
   ]
  },
  {
   "cell_type": "markdown",
   "metadata": {},
   "source": [
    "<br><br><br>"
   ]
  },
  {
   "cell_type": "markdown",
   "metadata": {},
   "source": [
    "# Top Cities"
   ]
  },
  {
   "cell_type": "code",
   "execution_count": 17,
   "metadata": {},
   "outputs": [
    {
     "data": {
      "application/vnd.jupyter.widget-view+json": {
       "model_id": "ff6f15105576460facf335235d0851dc",
       "version_major": 2,
       "version_minor": 0
      },
      "text/plain": [
       "VBox()"
      ]
     },
     "metadata": {},
     "output_type": "display_data"
    },
    {
     "data": {
      "application/vnd.jupyter.widget-view+json": {
       "model_id": "",
       "version_major": 2,
       "version_minor": 0
      },
      "text/plain": [
       "FloatProgress(value=0.0, bar_style='info', description='Progress:', layout=Layout(height='25px', width='50%'),…"
      ]
     },
     "metadata": {},
     "output_type": "display_data"
    },
    {
     "name": "stdout",
     "output_type": "stream",
     "text": [
      "+-----------------+---------+--------------+----------+\n",
      "|             city| segmento|customer_count|Total_city|\n",
      "+-----------------+---------+--------------+----------+\n",
      "|           Madrid|    loyal|           619|      2649|\n",
      "|           Madrid|     lost|           435|      2649|\n",
      "|           Madrid|     risk|           305|      2649|\n",
      "|           Madrid|     best|           609|      2649|\n",
      "|           Madrid|      new|           276|      2649|\n",
      "|           Madrid|promising|           405|      2649|\n",
      "|          Sevilla|     lost|           199|      1211|\n",
      "|          Sevilla|      new|           162|      1211|\n",
      "|          Sevilla|     best|           292|      1211|\n",
      "|          Sevilla|    loyal|           194|      1211|\n",
      "|          Sevilla|promising|           203|      1211|\n",
      "|          Sevilla|     risk|           161|      1211|\n",
      "|         Zaragoza|     risk|           163|      1176|\n",
      "|         Zaragoza|promising|           185|      1176|\n",
      "|         Zaragoza|     best|           281|      1176|\n",
      "|         Zaragoza|      new|           178|      1176|\n",
      "|         Zaragoza|    loyal|           194|      1176|\n",
      "|         Zaragoza|     lost|           175|      1176|\n",
      "|        Barcelona|promising|           268|      1172|\n",
      "|        Barcelona|     risk|           140|      1172|\n",
      "|        Barcelona|     best|           308|      1172|\n",
      "|        Barcelona|      new|           113|      1172|\n",
      "|        Barcelona|    loyal|           190|      1172|\n",
      "|        Barcelona|     lost|           153|      1172|\n",
      "|        Santander|    loyal|           152|      1076|\n",
      "|        Santander|     best|           348|      1076|\n",
      "|        Santander|      new|           187|      1076|\n",
      "|        Santander|     risk|           130|      1076|\n",
      "|        Santander|     lost|           111|      1076|\n",
      "|        Santander|promising|           148|      1076|\n",
      "|Palma de Mallorca|     best|           317|       942|\n",
      "|Palma de Mallorca|     lost|            97|       942|\n",
      "|Palma de Mallorca|      new|           193|       942|\n",
      "|Palma de Mallorca|promising|            92|       942|\n",
      "|Palma de Mallorca|    loyal|           107|       942|\n",
      "|Palma de Mallorca|     risk|           136|       942|\n",
      "|         Valencia|     lost|            94|       866|\n",
      "|         Valencia|promising|           159|       866|\n",
      "|         Valencia|     risk|            96|       866|\n",
      "|         Valencia|     best|           263|       866|\n",
      "|         Valencia|    loyal|           151|       866|\n",
      "|         Valencia|      new|           103|       866|\n",
      "|           Bilbao|     risk|            98|       828|\n",
      "|           Bilbao|promising|           112|       828|\n",
      "|           Bilbao|    loyal|           171|       828|\n",
      "|           Bilbao|     best|           235|       828|\n",
      "|           Bilbao|      new|           106|       828|\n",
      "|           Bilbao|     lost|           106|       828|\n",
      "|            Gijón|     best|           228|       826|\n",
      "|            Gijón|      new|            72|       826|\n",
      "|            Gijón|     lost|           129|       826|\n",
      "|            Gijón|promising|           127|       826|\n",
      "|            Gijón|     risk|            87|       826|\n",
      "|            Gijón|    loyal|           183|       826|\n",
      "|          Granada|    loyal|           107|       728|\n",
      "|          Granada|      new|           102|       728|\n",
      "|          Granada|     best|           239|       728|\n",
      "|          Granada|     risk|           102|       728|\n",
      "|          Granada|promising|            94|       728|\n",
      "|          Granada|     lost|            84|       728|\n",
      "+-----------------+---------+--------------+----------+\n",
      "only showing top 60 rows"
     ]
    }
   ],
   "source": [
    "df = dataset.select(\"segmento\",\"city\",\"customerid\").filter(dataset.city.isNotNull())\n",
    "\n",
    "top_cities = df.groupBy(\"city\",\"segmento\")\\\n",
    "                        .agg(countDistinct(\"customerid\").alias(\"customer_count\"))\\\n",
    "                        .withColumn('Total_city', f.sum('customer_count').over(Window.partitionBy('city')))\\\n",
    "                        .sort(desc(\"Total_city\"))\n",
    "\n",
    "    \n",
    "top_cities.show(60)\n",
    "\n"
   ]
  },
  {
   "cell_type": "markdown",
   "metadata": {},
   "source": [
    "<br><br><br>"
   ]
  },
  {
   "cell_type": "markdown",
   "metadata": {},
   "source": [
    "# Distribucion de Genero y Edad"
   ]
  },
  {
   "cell_type": "code",
   "execution_count": 18,
   "metadata": {},
   "outputs": [
    {
     "data": {
      "application/vnd.jupyter.widget-view+json": {
       "model_id": "c90bdcee32a144a392918c1f9388d0b7",
       "version_major": 2,
       "version_minor": 0
      },
      "text/plain": [
       "VBox()"
      ]
     },
     "metadata": {},
     "output_type": "display_data"
    },
    {
     "data": {
      "application/vnd.jupyter.widget-view+json": {
       "model_id": "",
       "version_major": 2,
       "version_minor": 0
      },
      "text/plain": [
       "FloatProgress(value=0.0, bar_style='info', description='Progress:', layout=Layout(height='25px', width='50%'),…"
      ]
     },
     "metadata": {},
     "output_type": "display_data"
    }
   ],
   "source": [
    "age_range = dataset.select(\"segmento\",\"customerid\",\"gender\",\"age\").filter((dataset.gender == \"M\") | (dataset.gender == \"F\") & (dataset.age.isNotNull())).drop_duplicates()\n",
    "\n",
    "age_range = age_range.withColumn('Age_Range',\\\n",
    "                           when(col(\"age\")<18,\"Menor de 18\")\\\n",
    "                          .when((col(\"age\")>=18) & (col(\"age\")<35) ,\"Entre 18-34\")\\\n",
    "                          .when((col(\"age\")>=35) & (col(\"age\")<50) ,\"Entre 35-49\")\\\n",
    "                          .when((col(\"age\")>=50) & (col(\"age\")<65) ,\"Entre 50-64\")\\\n",
    "                          .otherwise(\"Mayor de 65\"))\n",
    "    \n"
   ]
  },
  {
   "cell_type": "code",
   "execution_count": 19,
   "metadata": {},
   "outputs": [
    {
     "data": {
      "application/vnd.jupyter.widget-view+json": {
       "model_id": "0bcf12cc451c4993aa935fa09e08aeb4",
       "version_major": 2,
       "version_minor": 0
      },
      "text/plain": [
       "VBox()"
      ]
     },
     "metadata": {},
     "output_type": "display_data"
    },
    {
     "data": {
      "application/vnd.jupyter.widget-view+json": {
       "model_id": "",
       "version_major": 2,
       "version_minor": 0
      },
      "text/plain": [
       "FloatProgress(value=0.0, bar_style='info', description='Progress:', layout=Layout(height='25px', width='50%'),…"
      ]
     },
     "metadata": {},
     "output_type": "display_data"
    },
    {
     "name": "stdout",
     "output_type": "stream",
     "text": [
      "+---------+-----------+------+--------------+\n",
      "| segmento|  Age_Range|gender|customer_count|\n",
      "+---------+-----------+------+--------------+\n",
      "|     risk|Entre 18-34|     F|            56|\n",
      "|     risk|Entre 35-49|     M|            90|\n",
      "|     risk|Mayor de 65|     F|            16|\n",
      "|     risk|Entre 50-64|     M|            47|\n",
      "|     risk|Entre 18-34|     M|            26|\n",
      "|     risk|Entre 50-64|     F|            80|\n",
      "|     risk|Entre 35-49|     F|           147|\n",
      "|     risk|Mayor de 65|     M|             9|\n",
      "|promising|Entre 50-64|     F|            87|\n",
      "|promising|Entre 50-64|     M|            49|\n",
      "|promising|Entre 35-49|     F|           195|\n",
      "|promising|Entre 18-34|     M|            33|\n",
      "|promising|Entre 35-49|     M|            84|\n",
      "|promising|Mayor de 65|     M|             8|\n",
      "|promising|Mayor de 65|     F|            17|\n",
      "|promising|Entre 18-34|     F|            68|\n",
      "|      new|Mayor de 65|     F|             8|\n",
      "|      new|Entre 18-34|     F|            40|\n",
      "|      new|Entre 35-49|     F|           157|\n",
      "|      new|Entre 18-34|     M|            18|\n",
      "|      new|Entre 50-64|     F|            82|\n",
      "|      new|Entre 35-49|     M|            65|\n",
      "|      new|Entre 50-64|     M|            63|\n",
      "|      new|Mayor de 65|     M|            11|\n",
      "|    loyal|Entre 35-49|     F|           106|\n",
      "|    loyal|Mayor de 65|     M|            16|\n",
      "|    loyal|Mayor de 65|     F|            20|\n",
      "|    loyal|Entre 50-64|     M|            67|\n",
      "|    loyal|Entre 18-34|     F|            55|\n",
      "|    loyal|Entre 18-34|     M|            27|\n",
      "|    loyal|Entre 50-64|     F|           111|\n",
      "|    loyal|Entre 35-49|     M|            72|\n",
      "|     lost|Entre 35-49|     M|            59|\n",
      "|     lost|Entre 35-49|     F|           112|\n",
      "|     lost|Mayor de 65|     M|            17|\n",
      "|     lost|Mayor de 65|     F|            20|\n",
      "|     lost|Entre 18-34|     M|            29|\n",
      "|     lost|Entre 50-64|     F|            74|\n",
      "|     lost|Entre 50-64|     M|            38|\n",
      "|     lost|Entre 18-34|     F|            66|\n",
      "|     best|Entre 35-49|     F|           323|\n",
      "|     best|Mayor de 65|     M|            47|\n",
      "|     best|Mayor de 65|     F|            42|\n",
      "|     best|Entre 50-64|     M|           116|\n",
      "|     best|Entre 50-64|     F|           187|\n",
      "|     best|Entre 18-34|     F|           109|\n",
      "|     best|Entre 18-34|     M|            34|\n",
      "|     best|Entre 35-49|     M|           147|\n",
      "+---------+-----------+------+--------------+"
     ]
    }
   ],
   "source": [
    "age_range_dist = age_range.groupBy(\"segmento\",\"Age_Range\",\"gender\")\\\n",
    "                        .agg(countDistinct(\"customerid\").alias(\"customer_count\")).sort(desc(\"segmento\"))\n",
    "\n",
    "    \n",
    "age_range_dist.show(72)\n",
    "\n",
    "\n"
   ]
  },
  {
   "cell_type": "markdown",
   "metadata": {},
   "source": [
    "<br><br><br>"
   ]
  }
 ],
 "metadata": {
  "kernelspec": {
   "display_name": "PySpark",
   "language": "",
   "name": "pysparkkernel"
  },
  "language_info": {
   "codemirror_mode": {
    "name": "python",
    "version": 2
   },
   "mimetype": "text/x-python",
   "name": "pyspark",
   "pygments_lexer": "python2"
  }
 },
 "nbformat": 4,
 "nbformat_minor": 4
}
