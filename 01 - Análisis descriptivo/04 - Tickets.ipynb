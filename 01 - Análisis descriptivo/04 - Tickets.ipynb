{
 "cells": [
  {
   "cell_type": "code",
   "execution_count": 1,
   "metadata": {},
   "outputs": [
    {
     "data": {
      "application/vnd.jupyter.widget-view+json": {
       "model_id": "057697ac493446e7a1bbede54fc43e58",
       "version_major": 2,
       "version_minor": 0
      },
      "text/plain": [
       "VBox()"
      ]
     },
     "metadata": {},
     "output_type": "display_data"
    },
    {
     "name": "stdout",
     "output_type": "stream",
     "text": [
      "Starting Spark application\n"
     ]
    },
    {
     "data": {
      "text/html": [
       "<table>\n",
       "<tr><th>ID</th><th>YARN Application ID</th><th>Kind</th><th>State</th><th>Spark UI</th><th>Driver log</th><th>Current session?</th></tr><tr><td>1</td><td>application_1604241517055_0002</td><td>pyspark</td><td>idle</td><td><a target=\"_blank\" href=\"http://ip-10-0-1-100.ec2.internal:20888/proxy/application_1604241517055_0002/\">Link</a></td><td><a target=\"_blank\" href=\"http://ip-10-0-1-61.ec2.internal:8042/node/containerlogs/container_1604241517055_0002_01_000002/livy\">Link</a></td><td>✔</td></tr></table>"
      ],
      "text/plain": [
       "<IPython.core.display.HTML object>"
      ]
     },
     "metadata": {},
     "output_type": "display_data"
    },
    {
     "data": {
      "application/vnd.jupyter.widget-view+json": {
       "model_id": "",
       "version_major": 2,
       "version_minor": 0
      },
      "text/plain": [
       "FloatProgress(value=0.0, bar_style='info', description='Progress:', layout=Layout(height='25px', width='50%'),…"
      ]
     },
     "metadata": {},
     "output_type": "display_data"
    },
    {
     "name": "stdout",
     "output_type": "stream",
     "text": [
      "SparkSession available as 'spark'.\n"
     ]
    },
    {
     "data": {
      "application/vnd.jupyter.widget-view+json": {
       "model_id": "",
       "version_major": 2,
       "version_minor": 0
      },
      "text/plain": [
       "FloatProgress(value=0.0, bar_style='info', description='Progress:', layout=Layout(height='25px', width='50%'),…"
      ]
     },
     "metadata": {},
     "output_type": "display_data"
    }
   ],
   "source": [
    "from pyspark.sql import SparkSession"
   ]
  },
  {
   "cell_type": "code",
   "execution_count": 6,
   "metadata": {},
   "outputs": [
    {
     "data": {
      "application/vnd.jupyter.widget-view+json": {
       "model_id": "9d9330b5308c49519d49fc6a086b0c77",
       "version_major": 2,
       "version_minor": 0
      },
      "text/plain": [
       "VBox()"
      ]
     },
     "metadata": {},
     "output_type": "display_data"
    },
    {
     "data": {
      "application/vnd.jupyter.widget-view+json": {
       "model_id": "",
       "version_major": 2,
       "version_minor": 0
      },
      "text/plain": [
       "FloatProgress(value=0.0, bar_style='info', description='Progress:', layout=Layout(height='25px', width='50%'),…"
      ]
     },
     "metadata": {},
     "output_type": "display_data"
    },
    {
     "name": "stderr",
     "output_type": "stream",
     "text": [
      "Package already installed for current Spark context!\n",
      "Traceback (most recent call last):\n",
      "  File \"/usr/lib/spark/python/lib/pyspark.zip/pyspark/context.py\", line 1110, in install_pypi_package\n",
      "    raise ValueError(\"Package already installed for current Spark context!\")\n",
      "ValueError: Package already installed for current Spark context!\n",
      "\n"
     ]
    }
   ],
   "source": [
    "sc.install_pypi_package(\"pandas\")\n",
    "sc.install_pypi_package(\"kiwisolver==1.2.0\")\n",
    "sc.install_pypi_package(\"seaborn\")\n",
    "sc.install_pypi_package(\"tabulate\")"
   ]
  },
  {
   "cell_type": "code",
   "execution_count": 7,
   "metadata": {},
   "outputs": [
    {
     "data": {
      "application/vnd.jupyter.widget-view+json": {
       "model_id": "f728f39cc7314670ae06add4e3dc68ff",
       "version_major": 2,
       "version_minor": 0
      },
      "text/plain": [
       "VBox()"
      ]
     },
     "metadata": {},
     "output_type": "display_data"
    },
    {
     "data": {
      "application/vnd.jupyter.widget-view+json": {
       "model_id": "",
       "version_major": 2,
       "version_minor": 0
      },
      "text/plain": [
       "FloatProgress(value=0.0, bar_style='info', description='Progress:', layout=Layout(height='25px', width='50%'),…"
      ]
     },
     "metadata": {},
     "output_type": "display_data"
    }
   ],
   "source": [
    "import numpy as np\n",
    "import pyspark.sql.functions as F\n",
    "from pyspark.sql.types import *\n",
    "from pyspark.sql.window import Window\n",
    "from pyspark.sql import Row\n",
    "import pandas as pd\n",
    "import seaborn as sns\n",
    "import matplotlib.pyplot as plt\n",
    "from tabulate import tabulate"
   ]
  },
  {
   "cell_type": "code",
   "execution_count": 10,
   "metadata": {},
   "outputs": [
    {
     "data": {
      "application/vnd.jupyter.widget-view+json": {
       "model_id": "b4f0c440a4e54d569124a7921349e867",
       "version_major": 2,
       "version_minor": 0
      },
      "text/plain": [
       "VBox()"
      ]
     },
     "metadata": {},
     "output_type": "display_data"
    },
    {
     "data": {
      "application/vnd.jupyter.widget-view+json": {
       "model_id": "",
       "version_major": 2,
       "version_minor": 0
      },
      "text/plain": [
       "FloatProgress(value=0.0, bar_style='info', description='Progress:', layout=Layout(height='25px', width='50%'),…"
      ]
     },
     "metadata": {},
     "output_type": "display_data"
    }
   ],
   "source": [
    "in_bucket = \"s3://tfmbigdata/Files_Segunda_Entrega/tickets*.json\"\n",
    "tickets = spark.read.format(\"json\").load(in_bucket)"
   ]
  },
  {
   "cell_type": "code",
   "execution_count": 11,
   "metadata": {},
   "outputs": [
    {
     "data": {
      "application/vnd.jupyter.widget-view+json": {
       "model_id": "d16d4ff243cc4fdd918b6634b314b9fb",
       "version_major": 2,
       "version_minor": 0
      },
      "text/plain": [
       "VBox()"
      ]
     },
     "metadata": {},
     "output_type": "display_data"
    },
    {
     "data": {
      "application/vnd.jupyter.widget-view+json": {
       "model_id": "",
       "version_major": 2,
       "version_minor": 0
      },
      "text/plain": [
       "FloatProgress(value=0.0, bar_style='info', description='Progress:', layout=Layout(height='25px', width='50%'),…"
      ]
     },
     "metadata": {},
     "output_type": "display_data"
    },
    {
     "name": "stdout",
     "output_type": "stream",
     "text": [
      "+-----------+-----------------+----------+--------------+----------+--------------+---------+--------+-------+--------------------+-------------+\n",
      "|   cardtype|       customerid|   datekey|extendedamount|linenumber|originalamount|productid|quantity|storeid|            ticketid|totaldiscount|\n",
      "+-----------+-----------------+----------+--------------+----------+--------------+---------+--------+-------+--------------------+-------------+\n",
      "|     Mobile|77000000054018843|2019-08-06|          0.37|         1|          0.37|  5706168|     1.0| ES0491|10000491320190806...|          0.0|\n",
      "|     Mobile|77000000054018843|2019-08-06|          0.35|         3|          0.35|   126942|     1.0| ES0491|10000491320190806...|          0.0|\n",
      "|DigitalCard|77000000154031081|2019-08-06|          1.15|        33|          1.15|    82512|     1.0| ES0767|10000767220190806...|          0.0|\n",
      "|DigitalCard|77000000154031081|2019-08-06|          0.92|        34|          0.92|    74530|     1.0| ES0767|10000767220190806...|          0.0|\n",
      "|DigitalCard|77000000155268510|2019-08-06|          1.51|         2|          1.56|  5708403|     1.0| ES0662|10000662320190806...|         0.05|\n",
      "|DigitalCard|77000000155268510|2019-08-06|          1.11|         5|          1.15|    62846|     1.0| ES0662|10000662320190806...|         0.04|\n",
      "|DigitalCard|77000000155268510|2019-08-06|          1.82|         7|          1.89|     7224|     1.0| ES0662|10000662320190806...|         0.07|\n",
      "|DigitalCard|77000000155268510|2019-08-06|          1.92|         8|          1.99|     7221|     1.0| ES0662|10000662320190806...|         0.07|\n",
      "|DigitalCard|77000000141357158|2019-08-06|          1.45|         9|          1.45|     1218|     1.0| ES0732|10000732420190806...|          0.0|\n",
      "|DigitalCard|77000000141357158|2019-08-06|          1.45|         8|          1.45|     1218|     1.0| ES0732|10000732420190806...|          0.0|\n",
      "|DigitalCard|77000000141357158|2019-08-06|          3.48|         2|          3.48|     2442|     6.0| ES0732|10000732420190806...|          0.0|\n",
      "|DigitalCard|77000000141357158|2019-08-06|          1.25|        19|          1.25|   136687|     1.0| ES0732|10000732420190806...|          0.0|\n",
      "|DigitalCard|77000000141357158|2019-08-06|          0.79|        18|          0.79|    80415|     1.0| ES0732|10000732420190806...|          0.0|\n",
      "|DigitalCard|77000000141357158|2019-08-06|          0.79|        17|          0.79|     2967|     1.0| ES0732|10000732420190806...|          0.0|\n",
      "|DigitalCard|77000000141357158|2019-08-06|          0.55|        15|          0.55|     2723|     1.0| ES0732|10000732420190806...|          0.0|\n",
      "|DigitalCard|77000000155670866|2019-08-06|          1.91|         5|          1.99|  5704327|     1.0| ES0797|10000797620190806...|         0.08|\n",
      "|DigitalCard|77000000155670866|2019-08-06|          0.67|         7|          0.69|    80387|     1.0| ES0797|10000797620190806...|         0.02|\n",
      "|DigitalCard|77000000176803092|2019-08-06|          0.79|         1|          0.79|  5704811|     1.0| ES0797|10000797620190806...|          0.0|\n",
      "|DigitalCard|77000000176803092|2019-08-06|          1.49|        11|          1.49|   117970|     1.0| ES0797|10000797620190806...|          0.0|\n",
      "|DigitalCard|77000000176803092|2019-08-06|          1.59|        12|          1.59|    62785|     1.0| ES0797|10000797620190806...|          0.0|\n",
      "+-----------+-----------------+----------+--------------+----------+--------------+---------+--------+-------+--------------------+-------------+\n",
      "only showing top 20 rows"
     ]
    }
   ],
   "source": [
    "tickets.show()"
   ]
  },
  {
   "cell_type": "code",
   "execution_count": 12,
   "metadata": {},
   "outputs": [
    {
     "data": {
      "application/vnd.jupyter.widget-view+json": {
       "model_id": "362d62aa2fd64741ab19cdf5d1b1b659",
       "version_major": 2,
       "version_minor": 0
      },
      "text/plain": [
       "VBox()"
      ]
     },
     "metadata": {},
     "output_type": "display_data"
    },
    {
     "data": {
      "application/vnd.jupyter.widget-view+json": {
       "model_id": "",
       "version_major": 2,
       "version_minor": 0
      },
      "text/plain": [
       "FloatProgress(value=0.0, bar_style='info', description='Progress:', layout=Layout(height='25px', width='50%'),…"
      ]
     },
     "metadata": {},
     "output_type": "display_data"
    },
    {
     "name": "stdout",
     "output_type": "stream",
     "text": [
      "Rows:  13238241 \n",
      "Columns:  11\n",
      "Rows:  13121119 \n",
      "Columns:  11"
     ]
    }
   ],
   "source": [
    "rows_count = tickets.count()\n",
    "columns = len(tickets.columns)\n",
    "print(\"Rows: \",rows_count,\"\\nColumns: \", columns)\n",
    "tickets = tickets.distinct()\n",
    "rows_count = tickets.count()\n",
    "columns = len(tickets.columns)\n",
    "print(\"Rows: \",rows_count,\"\\nColumns: \", columns)"
   ]
  },
  {
   "cell_type": "code",
   "execution_count": 13,
   "metadata": {},
   "outputs": [
    {
     "data": {
      "application/vnd.jupyter.widget-view+json": {
       "model_id": "9c74aebee2664465849195a0961bf484",
       "version_major": 2,
       "version_minor": 0
      },
      "text/plain": [
       "VBox()"
      ]
     },
     "metadata": {},
     "output_type": "display_data"
    },
    {
     "data": {
      "application/vnd.jupyter.widget-view+json": {
       "model_id": "",
       "version_major": 2,
       "version_minor": 0
      },
      "text/plain": [
       "FloatProgress(value=0.0, bar_style='info', description='Progress:', layout=Layout(height='25px', width='50%'),…"
      ]
     },
     "metadata": {},
     "output_type": "display_data"
    },
    {
     "name": "stdout",
     "output_type": "stream",
     "text": [
      "+-------+-----------+--------------------+----------+------------------+------------------+------------------+------------------+------------------+--------+--------------------+--------------------+\n",
      "|summary|   cardtype|          customerid|   datekey|    extendedamount|        linenumber|    originalamount|         productid|          quantity| storeid|            ticketid|       totaldiscount|\n",
      "+-------+-----------+--------------------+----------+------------------+------------------+------------------+------------------+------------------+--------+--------------------+--------------------+\n",
      "|  count|   13121119|            13121119|  13121119|          13121119|          13121119|          13121119|          13121119|          13121119|13121105|            13121119|            13121119|\n",
      "|   mean|       null|7.702484670409921...|      null| 1.711373286073358|13.514151803668573| 1.752652273025392|1640544.7669266623|1.2418671881567407|    null|8.624403849274822E21|0.042775290735515586|\n",
      "| stddev|       null|8.848967764995452E13|      null|2.9617135947094204|13.261650158258737|3.0065931831781767|2550892.0389189753| 1.559265438406836|    null|5.162107257448693E21| 0.24710605503735802|\n",
      "|    min|DigitalCard|   77000000050008766|2019-05-01|               0.0|                 1|               0.0|                 2|             0.004|  ES0201|10000201120190708...|                 0.0|\n",
      "|    max|     Wallet|   77340000025950510|2019-09-05|           1481.75|               204|            1980.0|           7704870|            1200.0|  ES7002|10008011120190604...|              498.25|\n",
      "+-------+-----------+--------------------+----------+------------------+------------------+------------------+------------------+------------------+--------+--------------------+--------------------+"
     ]
    }
   ],
   "source": [
    "tickets.describe().show()"
   ]
  },
  {
   "cell_type": "code",
   "execution_count": 14,
   "metadata": {},
   "outputs": [
    {
     "data": {
      "application/vnd.jupyter.widget-view+json": {
       "model_id": "b190c86109e64de3b644033d42609770",
       "version_major": 2,
       "version_minor": 0
      },
      "text/plain": [
       "VBox()"
      ]
     },
     "metadata": {},
     "output_type": "display_data"
    },
    {
     "data": {
      "application/vnd.jupyter.widget-view+json": {
       "model_id": "",
       "version_major": 2,
       "version_minor": 0
      },
      "text/plain": [
       "FloatProgress(value=0.0, bar_style='info', description='Progress:', layout=Layout(height='25px', width='50%'),…"
      ]
     },
     "metadata": {},
     "output_type": "display_data"
    },
    {
     "name": "stdout",
     "output_type": "stream",
     "text": [
      "['cardtype', 'customerid', 'datekey', 'extendedamount', 'linenumber', 'originalamount', 'productid', 'quantity', 'storeid', 'ticketid', 'totaldiscount']\n",
      "StructType(List(StructField(cardtype,StringType,true),StructField(customerid,StringType,true),StructField(datekey,StringType,true),StructField(extendedamount,DoubleType,true),StructField(linenumber,LongType,true),StructField(originalamount,DoubleType,true),StructField(productid,LongType,true),StructField(quantity,DoubleType,true),StructField(storeid,StringType,true),StructField(ticketid,StringType,true),StructField(totaldiscount,DoubleType,true)))"
     ]
    }
   ],
   "source": [
    "print(tickets.columns)\n",
    "print(tickets.schema)"
   ]
  },
  {
   "cell_type": "code",
   "execution_count": 15,
   "metadata": {},
   "outputs": [
    {
     "data": {
      "application/vnd.jupyter.widget-view+json": {
       "model_id": "cd1c331b26054d1e804a737855180d31",
       "version_major": 2,
       "version_minor": 0
      },
      "text/plain": [
       "VBox()"
      ]
     },
     "metadata": {},
     "output_type": "display_data"
    },
    {
     "data": {
      "application/vnd.jupyter.widget-view+json": {
       "model_id": "",
       "version_major": 2,
       "version_minor": 0
      },
      "text/plain": [
       "FloatProgress(value=0.0, bar_style='info', description='Progress:', layout=Layout(height='25px', width='50%'),…"
      ]
     },
     "metadata": {},
     "output_type": "display_data"
    },
    {
     "name": "stderr",
     "output_type": "stream",
     "text": [
      "name 'products' is not defined\n",
      "Traceback (most recent call last):\n",
      "NameError: name 'products' is not defined\n",
      "\n"
     ]
    }
   ],
   "source": [
    "summary = tickets.summary()\n",
    "missing_ratio = 1-(np.array(list(summary.filter(summary['summary'] == 'count').collect()[0].asDict().values())[1:], dtype=int))/rows_count\n",
    "mr_row = spark.createDataFrame([['missing_ratio']+[float(x)*100 for x in missing_ratio]], summary.columns)\n",
    "unique_row = products.agg(*(F.countDistinct(F.col(c)).alias(c) for c in tickets.columns)).withColumn('summary',F.lit('unique'))\n",
    "summary = summary.unionByName(mr_row)\n",
    "summary = summary.unionByName(unique_row)\n",
    "summary_pd = summary.toPandas()"
   ]
  },
  {
   "cell_type": "code",
   "execution_count": 16,
   "metadata": {},
   "outputs": [
    {
     "data": {
      "application/vnd.jupyter.widget-view+json": {
       "model_id": "768fbc5011f646f7804475bac283cfc3",
       "version_major": 2,
       "version_minor": 0
      },
      "text/plain": [
       "VBox()"
      ]
     },
     "metadata": {},
     "output_type": "display_data"
    },
    {
     "data": {
      "application/vnd.jupyter.widget-view+json": {
       "model_id": "",
       "version_major": 2,
       "version_minor": 0
      },
      "text/plain": [
       "FloatProgress(value=0.0, bar_style='info', description='Progress:', layout=Layout(height='25px', width='50%'),…"
      ]
     },
     "metadata": {},
     "output_type": "display_data"
    },
    {
     "name": "stderr",
     "output_type": "stream",
     "text": [
      "name 'summary_pd' is not defined\n",
      "Traceback (most recent call last):\n",
      "NameError: name 'summary_pd' is not defined\n",
      "\n"
     ]
    }
   ],
   "source": [
    "summary_pd.set_index('summary').T"
   ]
  },
  {
   "cell_type": "code",
   "execution_count": 17,
   "metadata": {},
   "outputs": [
    {
     "data": {
      "application/vnd.jupyter.widget-view+json": {
       "model_id": "a973c60098c94b25a6331f19a3533ad6",
       "version_major": 2,
       "version_minor": 0
      },
      "text/plain": [
       "VBox()"
      ]
     },
     "metadata": {},
     "output_type": "display_data"
    },
    {
     "data": {
      "application/vnd.jupyter.widget-view+json": {
       "model_id": "",
       "version_major": 2,
       "version_minor": 0
      },
      "text/plain": [
       "FloatProgress(value=0.0, bar_style='info', description='Progress:', layout=Layout(height='25px', width='50%'),…"
      ]
     },
     "metadata": {},
     "output_type": "display_data"
    },
    {
     "name": "stderr",
     "output_type": "stream",
     "text": [
      "name 'summary_pd' is not defined\n",
      "Traceback (most recent call last):\n",
      "NameError: name 'summary_pd' is not defined\n",
      "\n"
     ]
    }
   ],
   "source": [
    "print(tabulate(summary_pd.set_index('summary').T, headers = 'keys', tablefmt = 'latex',showindex=True,floatfmt=\".3f\")) "
   ]
  },
  {
   "cell_type": "code",
   "execution_count": 18,
   "metadata": {},
   "outputs": [
    {
     "data": {
      "application/vnd.jupyter.widget-view+json": {
       "model_id": "57b45f55451d48d8a495f9b43e9e9cd2",
       "version_major": 2,
       "version_minor": 0
      },
      "text/plain": [
       "VBox()"
      ]
     },
     "metadata": {},
     "output_type": "display_data"
    },
    {
     "data": {
      "application/vnd.jupyter.widget-view+json": {
       "model_id": "",
       "version_major": 2,
       "version_minor": 0
      },
      "text/plain": [
       "FloatProgress(value=0.0, bar_style='info', description='Progress:', layout=Layout(height='25px', width='50%'),…"
      ]
     },
     "metadata": {},
     "output_type": "display_data"
    }
   ],
   "source": [
    "tickets_gr = tickets.groupby(['customerid','storeid','cardtype','datekey','ticketid','productid']).agg(\n",
    "    F.sum('extendedamount').alias('extendedamount'),\n",
    "    F.sum('originalamount').alias('originalamount'),\n",
    "    F.sum('totaldiscount').alias('totaldiscount'),\n",
    "    F.sum('quantity').alias('quantity')\n",
    ")"
   ]
  },
  {
   "cell_type": "code",
   "execution_count": 19,
   "metadata": {},
   "outputs": [
    {
     "data": {
      "application/vnd.jupyter.widget-view+json": {
       "model_id": "4126db3d5de54356b59cadadf17a0cd9",
       "version_major": 2,
       "version_minor": 0
      },
      "text/plain": [
       "VBox()"
      ]
     },
     "metadata": {},
     "output_type": "display_data"
    },
    {
     "data": {
      "application/vnd.jupyter.widget-view+json": {
       "model_id": "",
       "version_major": 2,
       "version_minor": 0
      },
      "text/plain": [
       "FloatProgress(value=0.0, bar_style='info', description='Progress:', layout=Layout(height='25px', width='50%'),…"
      ]
     },
     "metadata": {},
     "output_type": "display_data"
    },
    {
     "name": "stdout",
     "output_type": "stream",
     "text": [
      "Rows:  10592796 \n",
      "Columns:  11"
     ]
    }
   ],
   "source": [
    "rows_count = tickets_gr.count()\n",
    "columns = len(tickets.columns)\n",
    "print(\"Rows: \",rows_count,\"\\nColumns: \", columns)"
   ]
  },
  {
   "cell_type": "code",
   "execution_count": 20,
   "metadata": {},
   "outputs": [
    {
     "data": {
      "application/vnd.jupyter.widget-view+json": {
       "model_id": "5977c3d17b2644618975b107830afb55",
       "version_major": 2,
       "version_minor": 0
      },
      "text/plain": [
       "VBox()"
      ]
     },
     "metadata": {},
     "output_type": "display_data"
    },
    {
     "data": {
      "application/vnd.jupyter.widget-view+json": {
       "model_id": "",
       "version_major": 2,
       "version_minor": 0
      },
      "text/plain": [
       "FloatProgress(value=0.0, bar_style='info', description='Progress:', layout=Layout(height='25px', width='50%'),…"
      ]
     },
     "metadata": {},
     "output_type": "display_data"
    }
   ],
   "source": [
    "summary = tickets_gr.summary()\n",
    "missing_ratio = 1-(np.array(list(summary.filter(summary['summary'] == 'count').collect()[0].asDict().values())[1:], dtype=int))/rows_count\n",
    "mr_row = spark.createDataFrame([['missing_ratio']+[float(x)*100 for x in missing_ratio]], summary.columns)\n",
    "unique_row = tickets_gr.agg(*(F.countDistinct(F.col(c)).alias(c) for c in tickets_gr.columns)).withColumn('summary',F.lit('unique'))\n",
    "summary = summary.unionByName(mr_row)\n",
    "summary = summary.unionByName(unique_row)\n",
    "summary_pd = summary.toPandas()"
   ]
  },
  {
   "cell_type": "code",
   "execution_count": 21,
   "metadata": {},
   "outputs": [
    {
     "data": {
      "application/vnd.jupyter.widget-view+json": {
       "model_id": "d9ed45284319454a8ed0ae111508d470",
       "version_major": 2,
       "version_minor": 0
      },
      "text/plain": [
       "VBox()"
      ]
     },
     "metadata": {},
     "output_type": "display_data"
    },
    {
     "data": {
      "application/vnd.jupyter.widget-view+json": {
       "model_id": "",
       "version_major": 2,
       "version_minor": 0
      },
      "text/plain": [
       "FloatProgress(value=0.0, bar_style='info', description='Progress:', layout=Layout(height='25px', width='50%'),…"
      ]
     },
     "metadata": {},
     "output_type": "display_data"
    },
    {
     "name": "stdout",
     "output_type": "stream",
     "text": [
      "\\begin{tabular}{lrrrlrrrlrr}\n",
      "\\hline\n",
      "                &    count &                       mean &                     stddev & min                     &                         25\\% &                         50\\% &                         75\\% & max                   &   missing\\_ratio &   unique \\\\\n",
      "\\hline\n",
      " customerid     & 10592796 &      77024446580047408.000 &         87829972579457.828 & 77000000050008766       &       77000000168448960.000 &       77000000284649152.000 &       77000000509673040.000 & 77340000025950510     &           0.000 &    49729 \\\\\n",
      " storeid        & 10592786 &                            &                            & ES0201                  &                             &                             &                             & ES7002                &           0.000 &      556 \\\\\n",
      " cardtype       & 10592796 &                            &                            & DigitalCard             &                             &                             &                             & Wallet                &           0.000 &        5 \\\\\n",
      " datekey        & 10592796 &                            &                            & 2019-05-01              &                             &                             &                             & 2019-09-05            &           0.000 &      128 \\\\\n",
      " ticketid       & 10592796 & 8623973317159412563968.000 & 5169791682893337067520.000 & 10000201120190708336673 & 10000403520190819598336.000 & 10000671520190902566912.000 & 10000946120190825857024.000 & 100080111201906045026 &           0.000 &   922071 \\\\\n",
      " productid      & 10592796 &                1648116.537 &                2553300.851 & 2                       &                    6196.000 &                   80679.000 &                 5701815.000 & 7704870               &           0.000 &     6561 \\\\\n",
      " extendedamount & 10592796 &                      2.120 &                      3.549 & 0.0                     &                       0.950 &                       1.470 &                       2.390 & 1481.75               &           0.000 &     7294 \\\\\n",
      " originalamount & 10592796 &                      2.171 &                      3.611 & 0.0                     &                       0.950 &                       1.490 &                       2.490 & 1980.0                &           0.000 &     5966 \\\\\n",
      " totaldiscount  & 10592796 &                      0.053 &                      0.316 & 0.0                     &                       0.000 &                       0.000 &                       0.000 & 498.25                &           0.000 &     1938 \\\\\n",
      " quantity       & 10592796 &                      1.538 &                      1.986 & 0.004                   &                       1.000 &                       1.000 &                       2.000 & 1200.0                &           0.000 &    12874 \\\\\n",
      "\\hline\n",
      "\\end{tabular}"
     ]
    }
   ],
   "source": [
    "print(tabulate(summary_pd.set_index('summary').T, headers = 'keys', tablefmt = 'latex',showindex=True,floatfmt=\".3f\"))"
   ]
  },
  {
   "cell_type": "markdown",
   "metadata": {},
   "source": [
    "## Análisis originalamount 0"
   ]
  },
  {
   "cell_type": "code",
   "execution_count": 16,
   "metadata": {},
   "outputs": [
    {
     "data": {
      "application/vnd.jupyter.widget-view+json": {
       "model_id": "b65c6a919b024fbb9c421b42f72f412f",
       "version_major": 2,
       "version_minor": 0
      },
      "text/plain": [
       "VBox()"
      ]
     },
     "metadata": {},
     "output_type": "display_data"
    },
    {
     "data": {
      "application/vnd.jupyter.widget-view+json": {
       "model_id": "",
       "version_major": 2,
       "version_minor": 0
      },
      "text/plain": [
       "FloatProgress(value=0.0, bar_style='info', description='Progress:', layout=Layout(height='25px', width='50%'),…"
      ]
     },
     "metadata": {},
     "output_type": "display_data"
    }
   ],
   "source": [
    "quantity_0 = tickets_gr.filter(F.col('originalamount') == 0)"
   ]
  },
  {
   "cell_type": "code",
   "execution_count": 17,
   "metadata": {},
   "outputs": [
    {
     "data": {
      "application/vnd.jupyter.widget-view+json": {
       "model_id": "197ce2d445434ca2af7d390371a93aaf",
       "version_major": 2,
       "version_minor": 0
      },
      "text/plain": [
       "VBox()"
      ]
     },
     "metadata": {},
     "output_type": "display_data"
    },
    {
     "data": {
      "application/vnd.jupyter.widget-view+json": {
       "model_id": "",
       "version_major": 2,
       "version_minor": 0
      },
      "text/plain": [
       "FloatProgress(value=0.0, bar_style='info', description='Progress:', layout=Layout(height='25px', width='50%'),…"
      ]
     },
     "metadata": {},
     "output_type": "display_data"
    },
    {
     "name": "stdout",
     "output_type": "stream",
     "text": [
      "+-----------------+-------+-----------+----------+-----------------------+---------+--------------+--------------+-------------+--------+\n",
      "|customerid       |storeid|cardtype   |datekey   |ticketid               |productid|extendedamount|originalamount|totaldiscount|quantity|\n",
      "+-----------------+-------+-----------+----------+-----------------------+---------+--------------+--------------+-------------+--------+\n",
      "|77000000413449045|ES0333 |Mobile     |2019-07-20|1000033332019072040389 |3839     |0.0           |0.0           |0.0          |1.0     |\n",
      "|77000000273196260|ES2057 |DigitalCard|2019-06-21|10002057420190621265078|3840     |0.0           |0.0           |0.0          |1.0     |\n",
      "|77000000649451112|ES0927 |DigitalCard|2019-08-10|10000927320190810209200|3840     |0.0           |0.0           |0.0          |1.0     |\n",
      "|77340000000075081|ES0428 |DigitalCard|2019-05-22|10000428220190522712118|3840     |0.0           |0.0           |0.0          |1.0     |\n",
      "|77000000443444452|ES0949 |DigitalCard|2019-07-15|10000949320190715624181|3840     |0.0           |0.0           |0.0          |1.0     |\n",
      "|77000000258685836|ES0428 |DigitalCard|2019-05-17|1000042862019051725106 |3840     |0.0           |0.0           |0.0          |1.0     |\n",
      "|77000000507636530|ES2099 |DigitalCard|2019-06-17|10002099520190617108096|3840     |0.0           |0.0           |0.0          |1.0     |\n",
      "|77000000269657797|ES2061 |DigitalCard|2019-08-12|10002061520190812166287|3840     |0.0           |0.0           |0.0          |1.0     |\n",
      "|77000000260916545|ES0838 |DigitalCard|2019-07-18|10000838320190718356860|3840     |0.0           |0.0           |0.0          |1.0     |\n",
      "|77000000461758925|ES3034 |DigitalCard|2019-06-29|1000303432019062956190 |3840     |0.0           |0.0           |0.0          |1.0     |\n",
      "|77000000267360546|ES0805 |DigitalCard|2019-05-16|10000805520190516754996|3840     |0.0           |0.0           |0.0          |1.0     |\n",
      "|77000000060074553|ES4003 |DigitalCard|2019-07-09|10004003520190709325795|3840     |0.0           |0.0           |0.0          |1.0     |\n",
      "|77000000269721914|ES6011 |DigitalCard|2019-05-28|10006011120190528142556|3840     |0.0           |0.0           |0.0          |1.0     |\n",
      "|77000000458819728|ES0333 |DigitalCard|2019-06-13|10000333420190613139396|3840     |0.0           |0.0           |0.0          |1.0     |\n",
      "|77000000411353457|ES0949 |DigitalCard|2019-07-25|10000949420190725352993|3840     |0.0           |0.0           |0.0          |1.0     |\n",
      "|77000000407267041|ES3034 |DigitalCard|2019-06-21|10003034720190621430976|3840     |0.0           |0.0           |0.0          |1.0     |\n",
      "|77340000013378728|ES0428 |DigitalCard|2019-07-22|10000428520190722215749|3840     |0.0           |0.0           |0.0          |1.0     |\n",
      "|77000000594075461|ES0396 |DigitalCard|2019-08-12|10000396220190812189442|3840     |0.0           |0.0           |0.0          |1.0     |\n",
      "|77000000506352832|ES0241 |DigitalCard|2019-05-22|10000241320190522163982|3840     |0.0           |0.0           |0.0          |1.0     |\n",
      "|77340000000160441|ES0428 |DigitalCard|2019-07-26|10000428320190726489845|3840     |0.0           |0.0           |0.0          |1.0     |\n",
      "+-----------------+-------+-----------+----------+-----------------------+---------+--------------+--------------+-------------+--------+\n",
      "only showing top 20 rows"
     ]
    }
   ],
   "source": [
    "quantity_0.show(truncate=False)"
   ]
  },
  {
   "cell_type": "code",
   "execution_count": 39,
   "metadata": {},
   "outputs": [
    {
     "data": {
      "application/vnd.jupyter.widget-view+json": {
       "model_id": "889955f9d896422c8c2f5ed348260d0d",
       "version_major": 2,
       "version_minor": 0
      },
      "text/plain": [
       "VBox()"
      ]
     },
     "metadata": {},
     "output_type": "display_data"
    },
    {
     "name": "stderr",
     "output_type": "stream",
     "text": [
      "An error was encountered:\n",
      "Invalid status code '404' from https://10.0.1.165:18888/sessions/0 with error payload: {\"msg\":\"Session '0' not found.\"}\n"
     ]
    }
   ],
   "source": [
    "summary = quantity_0.summary()\n",
    "unique_row = quantity_0.agg(*(F.countDistinct(F.col(c)).alias(c) for c in tickets_gr.columns)).withColumn('summary',F.lit('unique'))\n",
    "summary = summary.unionByName(unique_row)\n",
    "summary_pd = summary.toPandas()"
   ]
  },
  {
   "cell_type": "code",
   "execution_count": 40,
   "metadata": {},
   "outputs": [
    {
     "data": {
      "application/vnd.jupyter.widget-view+json": {
       "model_id": "09256b1cc7254884bf201ad3492ea5cb",
       "version_major": 2,
       "version_minor": 0
      },
      "text/plain": [
       "VBox()"
      ]
     },
     "metadata": {},
     "output_type": "display_data"
    },
    {
     "name": "stderr",
     "output_type": "stream",
     "text": [
      "An error was encountered:\n",
      "Invalid status code '404' from https://10.0.1.165:18888/sessions/0 with error payload: {\"msg\":\"Session '0' not found.\"}\n"
     ]
    }
   ],
   "source": [
    "print(tabulate(summary_pd.set_index('summary').T, headers = 'keys', tablefmt = 'latex',showindex=True,floatfmt=\".3f\")) "
   ]
  },
  {
   "cell_type": "markdown",
   "metadata": {},
   "source": [
    "## Sobre la forma de pago"
   ]
  },
  {
   "cell_type": "code",
   "execution_count": 23,
   "metadata": {},
   "outputs": [
    {
     "data": {
      "application/vnd.jupyter.widget-view+json": {
       "model_id": "fb7b21440c0a4f29953f4e6a51587f81",
       "version_major": 2,
       "version_minor": 0
      },
      "text/plain": [
       "VBox()"
      ]
     },
     "metadata": {},
     "output_type": "display_data"
    },
    {
     "data": {
      "application/vnd.jupyter.widget-view+json": {
       "model_id": "",
       "version_major": 2,
       "version_minor": 0
      },
      "text/plain": [
       "FloatProgress(value=0.0, bar_style='info', description='Progress:', layout=Layout(height='25px', width='50%'),…"
      ]
     },
     "metadata": {},
     "output_type": "display_data"
    }
   ],
   "source": [
    "cardtype_resume = tickets_gr.groupby(['cardtype']).agg(F.countDistinct('ticketid').alias('count'))\n",
    "cardtype_resume = cardtype_resume.withColumn('relative_frequency', F.col('count')/F.sum('count').over(Window.partitionBy()))\n",
    "cardtype_resume_pd = cardtype_resume.toPandas()"
   ]
  },
  {
   "cell_type": "code",
   "execution_count": 26,
   "metadata": {},
   "outputs": [
    {
     "data": {
      "application/vnd.jupyter.widget-view+json": {
       "model_id": "4b4bdad4cf8b4fd3abd3d4f8021192a5",
       "version_major": 2,
       "version_minor": 0
      },
      "text/plain": [
       "VBox()"
      ]
     },
     "metadata": {},
     "output_type": "display_data"
    },
    {
     "data": {
      "application/vnd.jupyter.widget-view+json": {
       "model_id": "",
       "version_major": 2,
       "version_minor": 0
      },
      "text/plain": [
       "FloatProgress(value=0.0, bar_style='info', description='Progress:', layout=Layout(height='25px', width='50%'),…"
      ]
     },
     "metadata": {},
     "output_type": "display_data"
    },
    {
     "name": "stdout",
     "output_type": "stream",
     "text": [
      "      cardtype   count  relative_frequency\n",
      "0       Mobile  104969            0.113840\n",
      "1       Wallet      72            0.000078\n",
      "2          UNK    3042            0.003299\n",
      "3  DigitalCard  810869            0.879400\n",
      "4  PaymentCard    3119            0.003383"
     ]
    }
   ],
   "source": [
    "cardtype_resume_pd"
   ]
  },
  {
   "cell_type": "code",
   "execution_count": 27,
   "metadata": {},
   "outputs": [
    {
     "data": {
      "application/vnd.jupyter.widget-view+json": {
       "model_id": "3215b2add85245d3b0a8db5fd0a2ea73",
       "version_major": 2,
       "version_minor": 0
      },
      "text/plain": [
       "VBox()"
      ]
     },
     "metadata": {},
     "output_type": "display_data"
    },
    {
     "data": {
      "application/vnd.jupyter.widget-view+json": {
       "model_id": "",
       "version_major": 2,
       "version_minor": 0
      },
      "text/plain": [
       "FloatProgress(value=0.0, bar_style='info', description='Progress:', layout=Layout(height='25px', width='50%'),…"
      ]
     },
     "metadata": {},
     "output_type": "display_data"
    },
    {
     "data": {
      "image/png": "[encoded data removed]",
      "text/plain": [
       "<IPython.core.display.Image object>"
      ]
     },
     "metadata": {},
     "output_type": "display_data"
    }
   ],
   "source": [
    "#Visualizamos\n",
    "plt.clf()\n",
    "plt.figure(figsize=(10,6))\n",
    "splot = sns.barplot(y=\"relative_frequency\", x=\"cardtype\", data=cardtype_resume_pd)\n",
    "for p in splot.patches:\n",
    "    splot.annotate(format(p.get_height(), '.4f'), \n",
    "                   (p.get_x() + p.get_width() / 2., p.get_height()+0.01), \n",
    "                   ha = 'center', va = 'center', \n",
    "                   xytext = (0, 0), \n",
    "                   textcoords = 'offset points')\n",
    "# splot.set_xticklabels(splot.get_xticklabels(), rotation=70)\n",
    "splot.set_title('Distribución de compras por tipo de transacción')\n",
    "plt.ylabel('Frecuencia relativa')\n",
    "# plt.yscale('logit')\n",
    "\n",
    "%matplot plt"
   ]
  },
  {
   "cell_type": "markdown",
   "metadata": {},
   "source": [
    "## Sobre la cantidad de productos en la cesta"
   ]
  },
  {
   "cell_type": "code",
   "execution_count": 61,
   "metadata": {},
   "outputs": [
    {
     "data": {
      "application/vnd.jupyter.widget-view+json": {
       "model_id": "60ab81d033a3472daf8d167d9972a5dc",
       "version_major": 2,
       "version_minor": 0
      },
      "text/plain": [
       "VBox()"
      ]
     },
     "metadata": {},
     "output_type": "display_data"
    },
    {
     "data": {
      "application/vnd.jupyter.widget-view+json": {
       "model_id": "",
       "version_major": 2,
       "version_minor": 0
      },
      "text/plain": [
       "FloatProgress(value=0.0, bar_style='info', description='Progress:', layout=Layout(height='25px', width='50%'),…"
      ]
     },
     "metadata": {},
     "output_type": "display_data"
    }
   ],
   "source": [
    "tickets_resume = tickets_gr.groupby(['customerid','storeid','cardtype','datekey','ticketid']).agg(\n",
    "    F.sum('extendedamount').alias('extendedamount'),\n",
    "    F.sum('originalamount').alias('originalamount'),\n",
    "    F.sum('totaldiscount').alias('totaldiscount'),\n",
    "    F.sum('quantity').alias('quantity'),\n",
    "    F.countDistinct('productid').alias('uniqueproducts')\n",
    ")"
   ]
  },
  {
   "cell_type": "markdown",
   "metadata": {},
   "source": [
    "## Análisis de cantidades en la cesta"
   ]
  },
  {
   "cell_type": "code",
   "execution_count": 63,
   "metadata": {},
   "outputs": [
    {
     "data": {
      "application/vnd.jupyter.widget-view+json": {
       "model_id": "028b318e37954713aa288da301a705d3",
       "version_major": 2,
       "version_minor": 0
      },
      "text/plain": [
       "VBox()"
      ]
     },
     "metadata": {},
     "output_type": "display_data"
    },
    {
     "data": {
      "application/vnd.jupyter.widget-view+json": {
       "model_id": "",
       "version_major": 2,
       "version_minor": 0
      },
      "text/plain": [
       "FloatProgress(value=0.0, bar_style='info', description='Progress:', layout=Layout(height='25px', width='50%'),…"
      ]
     },
     "metadata": {},
     "output_type": "display_data"
    }
   ],
   "source": [
    "customer_mean_resume = tickets_resume.groupby(['customerid']).agg(\n",
    "    F.count('ticketid').alias('frequency'),\n",
    "    F.mean('extendedamount').alias('extendedamount'),\n",
    "    F.mean('originalamount').alias('originalamount'),\n",
    "    F.mean('totaldiscount').alias('totaldiscount'),\n",
    "    F.mean('quantity').alias('quantity'),\n",
    "    F.mean('uniqueproducts').alias('uniqueproducts')\n",
    ")"
   ]
  },
  {
   "cell_type": "code",
   "execution_count": 64,
   "metadata": {},
   "outputs": [
    {
     "data": {
      "application/vnd.jupyter.widget-view+json": {
       "model_id": "e53b1eac32014303a65ba1620d746295",
       "version_major": 2,
       "version_minor": 0
      },
      "text/plain": [
       "VBox()"
      ]
     },
     "metadata": {},
     "output_type": "display_data"
    },
    {
     "data": {
      "application/vnd.jupyter.widget-view+json": {
       "model_id": "",
       "version_major": 2,
       "version_minor": 0
      },
      "text/plain": [
       "FloatProgress(value=0.0, bar_style='info', description='Progress:', layout=Layout(height='25px', width='50%'),…"
      ]
     },
     "metadata": {},
     "output_type": "display_data"
    },
    {
     "name": "stdout",
     "output_type": "stream",
     "text": [
      "DataFrame[customerid: string, frequency: bigint, extendedamount: double, originalamount: double, totaldiscount: double, quantity: double, uniqueproducts: double]"
     ]
    }
   ],
   "source": [
    "customer_mean_resume"
   ]
  },
  {
   "cell_type": "code",
   "execution_count": 37,
   "metadata": {},
   "outputs": [
    {
     "data": {
      "application/vnd.jupyter.widget-view+json": {
       "model_id": "57e9c731a66c428fb4f9119f194077cb",
       "version_major": 2,
       "version_minor": 0
      },
      "text/plain": [
       "VBox()"
      ]
     },
     "metadata": {},
     "output_type": "display_data"
    },
    {
     "data": {
      "application/vnd.jupyter.widget-view+json": {
       "model_id": "",
       "version_major": 2,
       "version_minor": 0
      },
      "text/plain": [
       "FloatProgress(value=0.0, bar_style='info', description='Progress:', layout=Layout(height='25px', width='50%'),…"
      ]
     },
     "metadata": {},
     "output_type": "display_data"
    },
    {
     "data": {
      "image/png": "[encoded data removed]",
      "text/plain": [
       "<IPython.core.display.Image object>"
      ]
     },
     "metadata": {},
     "output_type": "display_data"
    }
   ],
   "source": [
    "plt.clf()\n",
    "sns.scatterplot(data=customer_resume, x=\"quantity\", y=\"frequency\")\n",
    "%matplot plt"
   ]
  },
  {
   "cell_type": "code",
   "execution_count": 65,
   "metadata": {},
   "outputs": [
    {
     "data": {
      "application/vnd.jupyter.widget-view+json": {
       "model_id": "d169d1fe3b344094a2038ac3767bb155",
       "version_major": 2,
       "version_minor": 0
      },
      "text/plain": [
       "VBox()"
      ]
     },
     "metadata": {},
     "output_type": "display_data"
    },
    {
     "data": {
      "application/vnd.jupyter.widget-view+json": {
       "model_id": "",
       "version_major": 2,
       "version_minor": 0
      },
      "text/plain": [
       "FloatProgress(value=0.0, bar_style='info', description='Progress:', layout=Layout(height='25px', width='50%'),…"
      ]
     },
     "metadata": {},
     "output_type": "display_data"
    }
   ],
   "source": [
    "# quantity_counts = customer_mean_resume.groupby(F.col('quantity')).count()\n",
    "quantity_counts_pd = customer_mean_resume.toPandas()"
   ]
  },
  {
   "cell_type": "code",
   "execution_count": 66,
   "metadata": {},
   "outputs": [
    {
     "data": {
      "application/vnd.jupyter.widget-view+json": {
       "model_id": "e89634def3d84a62b50dbe81f32740ed",
       "version_major": 2,
       "version_minor": 0
      },
      "text/plain": [
       "VBox()"
      ]
     },
     "metadata": {},
     "output_type": "display_data"
    },
    {
     "data": {
      "application/vnd.jupyter.widget-view+json": {
       "model_id": "",
       "version_major": 2,
       "version_minor": 0
      },
      "text/plain": [
       "FloatProgress(value=0.0, bar_style='info', description='Progress:', layout=Layout(height='25px', width='50%'),…"
      ]
     },
     "metadata": {},
     "output_type": "display_data"
    },
    {
     "name": "stdout",
     "output_type": "stream",
     "text": [
      "\\begin{tabular}{lrrrrrrrr}\n",
      "\\hline\n",
      "                &     count &   mean &    std &   min &    25\\% &    50\\% &    75\\% &     max \\\\\n",
      "\\hline\n",
      " frequency      & 49729.000 & 18.542 & 10.193 & 8.000 & 11.000 & 16.000 & 23.000 & 312.000 \\\\\n",
      " extendedamount & 49729.000 & 26.462 & 16.906 & 0.656 & 15.042 & 22.353 & 33.236 & 359.692 \\\\\n",
      " originalamount & 49729.000 & 27.055 & 17.091 & 0.772 & 15.492 & 22.929 & 33.936 & 360.535 \\\\\n",
      " totaldiscount  & 49729.000 &  0.614 &  0.614 & 0.000 &  0.227 &  0.450 &  0.798 &  15.895 \\\\\n",
      " quantity       & 49729.000 & 18.924 & 12.042 & 1.368 & 10.815 & 15.966 & 23.638 & 235.384 \\\\\n",
      " uniqueproducts & 49729.000 & 12.384 &  7.291 & 1.000 &  7.375 & 10.647 & 15.393 &  79.467 \\\\\n",
      "\\hline\n",
      "\\end{tabular}"
     ]
    }
   ],
   "source": [
    "print(tabulate(quantity_counts_pd.describe().T, headers = 'keys', tablefmt = 'latex',showindex=True,floatfmt=\".3f\")) "
   ]
  },
  {
   "cell_type": "code",
   "execution_count": 67,
   "metadata": {},
   "outputs": [
    {
     "data": {
      "application/vnd.jupyter.widget-view+json": {
       "model_id": "fcef6245237a47deac0e3ca443c237c4",
       "version_major": 2,
       "version_minor": 0
      },
      "text/plain": [
       "VBox()"
      ]
     },
     "metadata": {},
     "output_type": "display_data"
    },
    {
     "data": {
      "application/vnd.jupyter.widget-view+json": {
       "model_id": "",
       "version_major": 2,
       "version_minor": 0
      },
      "text/plain": [
       "FloatProgress(value=0.0, bar_style='info', description='Progress:', layout=Layout(height='25px', width='50%'),…"
      ]
     },
     "metadata": {},
     "output_type": "display_data"
    },
    {
     "data": {
      "image/png": "[encoded data removed]",
      "text/plain": [
       "<IPython.core.display.Image object>"
      ]
     },
     "metadata": {},
     "output_type": "display_data"
    }
   ],
   "source": [
    "fig, ax = plt.subplots(2, 1, sharex=True, figsize=(10, 8), gridspec_kw={\"height_ratios\": (.15, .85)})\n",
    "sns.boxplot(x=\"quantity\", data=quantity_counts_pd, ax=ax[0])\n",
    "sns.histplot(quantity_counts_pd[\"quantity\"],bins=100,ax=ax[1],kde=True)\n",
    "ax[0].set_title('Distribución de cantidades en los tickets')\n",
    "plt.ylabel('Número de clientes')\n",
    "%matplot plt"
   ]
  },
  {
   "cell_type": "markdown",
   "metadata": {},
   "source": [
    "## Productos unicos en la cesta"
   ]
  },
  {
   "cell_type": "code",
   "execution_count": 71,
   "metadata": {},
   "outputs": [
    {
     "data": {
      "application/vnd.jupyter.widget-view+json": {
       "model_id": "b532299f537c4478911f19b129fbe747",
       "version_major": 2,
       "version_minor": 0
      },
      "text/plain": [
       "VBox()"
      ]
     },
     "metadata": {},
     "output_type": "display_data"
    },
    {
     "data": {
      "application/vnd.jupyter.widget-view+json": {
       "model_id": "",
       "version_major": 2,
       "version_minor": 0
      },
      "text/plain": [
       "FloatProgress(value=0.0, bar_style='info', description='Progress:', layout=Layout(height='25px', width='50%'),…"
      ]
     },
     "metadata": {},
     "output_type": "display_data"
    },
    {
     "data": {
      "image/png": "[encoded data removed]",
      "text/plain": [
       "<IPython.core.display.Image object>"
      ]
     },
     "metadata": {},
     "output_type": "display_data"
    }
   ],
   "source": [
    "fig, ax = plt.subplots(2, 1, sharex=True, figsize=(10, 8), gridspec_kw={\"height_ratios\": (.15, .85)})\n",
    "sns.boxplot(x=\"uniqueproducts\", data=quantity_counts_pd, ax=ax[0])\n",
    "sns.histplot(quantity_counts_pd[\"uniqueproducts\"],bins=50,ax=ax[1],kde=True)\n",
    "ax[0].set_title('Distribución de cantidad única de productos en los tickets')\n",
    "plt.ylabel('Cantidad de clientes')\n",
    "%matplot plt"
   ]
  }
 ],
 "metadata": {
  "kernelspec": {
   "display_name": "PySpark",
   "language": "",
   "name": "pysparkkernel"
  },
  "language_info": {
   "codemirror_mode": {
    "name": "python",
    "version": 2
   },
   "mimetype": "text/x-python",
   "name": "pyspark",
   "pygments_lexer": "python2"
  }
 },
 "nbformat": 4,
 "nbformat_minor": 4
}
