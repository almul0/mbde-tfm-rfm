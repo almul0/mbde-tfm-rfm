{
 "cells": [
  {
   "cell_type": "code",
   "execution_count": 6,
   "metadata": {},
   "outputs": [
    {
     "data": {
      "application/vnd.jupyter.widget-view+json": {
       "model_id": "e6fe38eef67f4e26a1191e6354868f30",
       "version_major": 2,
       "version_minor": 0
      },
      "text/plain": [
       "VBox()"
      ]
     },
     "metadata": {},
     "output_type": "display_data"
    },
    {
     "data": {
      "application/vnd.jupyter.widget-view+json": {
       "model_id": "",
       "version_major": 2,
       "version_minor": 0
      },
      "text/plain": [
       "FloatProgress(value=0.0, bar_style='info', description='Progress:', layout=Layout(height='25px', width='50%'),…"
      ]
     },
     "metadata": {},
     "output_type": "display_data"
    }
   ],
   "source": [
    "from pyspark.sql import SparkSession"
   ]
  },
  {
   "cell_type": "code",
   "execution_count": 7,
   "metadata": {},
   "outputs": [
    {
     "data": {
      "application/vnd.jupyter.widget-view+json": {
       "model_id": "be1a843b65fa431f9942732d33efca87",
       "version_major": 2,
       "version_minor": 0
      },
      "text/plain": [
       "VBox()"
      ]
     },
     "metadata": {},
     "output_type": "display_data"
    },
    {
     "data": {
      "application/vnd.jupyter.widget-view+json": {
       "model_id": "",
       "version_major": 2,
       "version_minor": 0
      },
      "text/plain": [
       "FloatProgress(value=0.0, bar_style='info', description='Progress:', layout=Layout(height='25px', width='50%'),…"
      ]
     },
     "metadata": {},
     "output_type": "display_data"
    },
    {
     "name": "stderr",
     "output_type": "stream",
     "text": [
      "Package already installed for current Spark context!\n",
      "Traceback (most recent call last):\n",
      "  File \"/usr/lib/spark/python/lib/pyspark.zip/pyspark/context.py\", line 1110, in install_pypi_package\n",
      "    raise ValueError(\"Package already installed for current Spark context!\")\n",
      "ValueError: Package already installed for current Spark context!\n",
      "\n"
     ]
    }
   ],
   "source": [
    "sc.install_pypi_package(\"pandas\")\n",
    "sc.install_pypi_package(\"seaborn\")\n",
    "sc.install_pypi_package(\"tabulate\")"
   ]
  },
  {
   "cell_type": "code",
   "execution_count": 8,
   "metadata": {},
   "outputs": [
    {
     "data": {
      "application/vnd.jupyter.widget-view+json": {
       "model_id": "dd8c0748f8f5439ba36e99ee51d1297a",
       "version_major": 2,
       "version_minor": 0
      },
      "text/plain": [
       "VBox()"
      ]
     },
     "metadata": {},
     "output_type": "display_data"
    },
    {
     "data": {
      "application/vnd.jupyter.widget-view+json": {
       "model_id": "",
       "version_major": 2,
       "version_minor": 0
      },
      "text/plain": [
       "FloatProgress(value=0.0, bar_style='info', description='Progress:', layout=Layout(height='25px', width='50%'),…"
      ]
     },
     "metadata": {},
     "output_type": "display_data"
    }
   ],
   "source": [
    "import numpy as np\n",
    "import pyspark.sql.functions as F\n",
    "from pyspark.sql.types import *\n",
    "from pyspark.sql import Row\n",
    "import pandas as pd\n",
    "import seaborn as sns\n",
    "import matplotlib.pyplot as plt\n",
    "from tabulate import tabulate"
   ]
  },
  {
   "cell_type": "code",
   "execution_count": 9,
   "metadata": {},
   "outputs": [
    {
     "data": {
      "application/vnd.jupyter.widget-view+json": {
       "model_id": "a5b771f6dad9452fb332c13d8f79bb92",
       "version_major": 2,
       "version_minor": 0
      },
      "text/plain": [
       "VBox()"
      ]
     },
     "metadata": {},
     "output_type": "display_data"
    },
    {
     "data": {
      "application/vnd.jupyter.widget-view+json": {
       "model_id": "",
       "version_major": 2,
       "version_minor": 0
      },
      "text/plain": [
       "FloatProgress(value=0.0, bar_style='info', description='Progress:', layout=Layout(height='25px', width='50%'),…"
      ]
     },
     "metadata": {},
     "output_type": "display_data"
    }
   ],
   "source": [
    "in_bucket = \"s3://tfmbigdata/Files_Segunda_Entrega/Customers.json\"\n",
    "customers = spark.read.format(\"json\").load(in_bucket)"
   ]
  },
  {
   "cell_type": "code",
   "execution_count": 10,
   "metadata": {},
   "outputs": [
    {
     "data": {
      "application/vnd.jupyter.widget-view+json": {
       "model_id": "c072b0ceb64749309cb3f148959b8ef6",
       "version_major": 2,
       "version_minor": 0
      },
      "text/plain": [
       "VBox()"
      ]
     },
     "metadata": {},
     "output_type": "display_data"
    },
    {
     "data": {
      "application/vnd.jupyter.widget-view+json": {
       "model_id": "",
       "version_major": 2,
       "version_minor": 0
      },
      "text/plain": [
       "FloatProgress(value=0.0, bar_style='info', description='Progress:', layout=Layout(height='25px', width='50%'),…"
      ]
     },
     "metadata": {},
     "output_type": "display_data"
    },
    {
     "name": "stdout",
     "output_type": "stream",
     "text": [
      "+----+-----------------+------+--------------+----------------+--------------+------------------+-------+\n",
      "| age|       customerid|gender|isocountrycode|registrationdate|regularstoreid|unregistrationdate|zipcode|\n",
      "+----+-----------------+------+--------------+----------------+--------------+------------------+-------+\n",
      "|  54|77340000025947697|     F|            ES|      2017-11-25|        ES0445|              null|  48530|\n",
      "|null|77340000025944593|  null|            ES|      2017-11-25|        ES4010|              null|   null|\n",
      "|null|77340000025930334|  null|            ES|      2017-11-25|        ES4002|              null|   null|\n",
      "|null|77340000025919664|  null|            ES|      2017-11-25|        ES0405|              null|   null|\n",
      "|  44|77340000025914329|     F|            ES|      2017-11-25|        ES4002|              null|  01015|\n",
      "|  42|77340000025898906|     F|            ES|      2017-11-25|        ES4503|              null|  50021|\n",
      "|  56|77340000025889206|     F|            ES|      2017-11-25|        ES0445|              null|  48902|\n",
      "|  29|77340000025887557|     F|            ES|      2017-11-25|        ES4006|              null|  48960|\n",
      "|  63|77340000025887460|     F|            ES|      2017-11-25|        ES0482|              null|  48480|\n",
      "|null|77340000025876305|  null|            ES|      2017-11-24|        ES0433|              null|   null|\n",
      "|  41|77340000025871940|     M|            ES|      2017-11-24|        ES4503|              null|  50007|\n",
      "|null|77340000025853316|  null|            ES|      2017-11-24|        ES4011|              null|   null|\n",
      "|  48|77340000025846914|     M|            ES|      2017-11-24|        ES0496|              null|  31621|\n",
      "|  30|77340000025837990|     F|            ES|      2017-11-24|        ES4019|              null|  01003|\n",
      "|  63|77340000025837505|     F|            ES|      2017-11-24|        ES0417|              null|  48910|\n",
      "|null|77340000025836632|  null|            ES|      2017-11-24|        ES0418|              null|   null|\n",
      "|  38|77340000025825962|     M|            ES|      2017-11-23|        ES0492|              null|  48960|\n",
      "|  44|77340000025822664|     F|            ES|      2017-11-23|        ES0448|              null|  01012|\n",
      "|  50|77340000025809569|     F|            ES|      2017-11-23|        ES4011|              null|  48930|\n",
      "|  62|77340000025808017|     F|            ES|      2017-11-23|        ES0496|              null|  31620|\n",
      "+----+-----------------+------+--------------+----------------+--------------+------------------+-------+\n",
      "only showing top 20 rows"
     ]
    }
   ],
   "source": [
    "customers.show()"
   ]
  },
  {
   "cell_type": "code",
   "execution_count": 11,
   "metadata": {},
   "outputs": [
    {
     "data": {
      "application/vnd.jupyter.widget-view+json": {
       "model_id": "3bbb6846ade8474294b191e7d401f3b1",
       "version_major": 2,
       "version_minor": 0
      },
      "text/plain": [
       "VBox()"
      ]
     },
     "metadata": {},
     "output_type": "display_data"
    },
    {
     "data": {
      "application/vnd.jupyter.widget-view+json": {
       "model_id": "",
       "version_major": 2,
       "version_minor": 0
      },
      "text/plain": [
       "FloatProgress(value=0.0, bar_style='info', description='Progress:', layout=Layout(height='25px', width='50%'),…"
      ]
     },
     "metadata": {},
     "output_type": "display_data"
    },
    {
     "name": "stdout",
     "output_type": "stream",
     "text": [
      "Rows:  49998 \n",
      "Columns:  8"
     ]
    }
   ],
   "source": [
    "rows_count = customers.count()\n",
    "columns = len(customers.columns)\n",
    "\n",
    "print(\"Rows: \",rows_count,\"\\nColumns: \", columns)"
   ]
  },
  {
   "cell_type": "code",
   "execution_count": 12,
   "metadata": {},
   "outputs": [
    {
     "data": {
      "application/vnd.jupyter.widget-view+json": {
       "model_id": "f0e4427c64704696b5818ff2cfd8e86a",
       "version_major": 2,
       "version_minor": 0
      },
      "text/plain": [
       "VBox()"
      ]
     },
     "metadata": {},
     "output_type": "display_data"
    },
    {
     "data": {
      "application/vnd.jupyter.widget-view+json": {
       "model_id": "",
       "version_major": 2,
       "version_minor": 0
      },
      "text/plain": [
       "FloatProgress(value=0.0, bar_style='info', description='Progress:', layout=Layout(height='25px', width='50%'),…"
      ]
     },
     "metadata": {},
     "output_type": "display_data"
    },
    {
     "name": "stdout",
     "output_type": "stream",
     "text": [
      "+-------+------------------+--------------------+------------------+--------------+----------------+--------------+------------------+------------------+\n",
      "|summary|               age|          customerid|            gender|isocountrycode|registrationdate|regularstoreid|unregistrationdate|           zipcode|\n",
      "+-------+------------------+--------------------+------------------+--------------+----------------+--------------+------------------+------------------+\n",
      "|  count|             44138|               49998|             44006|         49998|           49998|         49998|                 7|             41889|\n",
      "|   mean| 45.71813403416557|7.702334563650644...|0.4444444444444444|          null|            null|          null|              null| 25916.29789647104|\n",
      "| stddev|11.767718415966268|8.597990081615628E13|0.8819171036881968|          null|            null|          null|              null|14756.114014752437|\n",
      "|    min|                17|   77000000050013325|                 0|            ES|      2015-12-17|        ES0201|        2017-08-31|             00260|\n",
      "|    max|               119|   77340000025947697|                 O|            ES|      2019-09-01|        ES7002|        2019-09-03|          GX11-1AA|\n",
      "+-------+------------------+--------------------+------------------+--------------+----------------+--------------+------------------+------------------+"
     ]
    }
   ],
   "source": [
    "customers.describe().show()"
   ]
  },
  {
   "cell_type": "code",
   "execution_count": 13,
   "metadata": {},
   "outputs": [
    {
     "data": {
      "application/vnd.jupyter.widget-view+json": {
       "model_id": "72a53b3d02484703bcacd62df0875723",
       "version_major": 2,
       "version_minor": 0
      },
      "text/plain": [
       "VBox()"
      ]
     },
     "metadata": {},
     "output_type": "display_data"
    },
    {
     "data": {
      "application/vnd.jupyter.widget-view+json": {
       "model_id": "",
       "version_major": 2,
       "version_minor": 0
      },
      "text/plain": [
       "FloatProgress(value=0.0, bar_style='info', description='Progress:', layout=Layout(height='25px', width='50%'),…"
      ]
     },
     "metadata": {},
     "output_type": "display_data"
    }
   ],
   "source": [
    "summary = customers.summary()\n",
    "missing_ratio = 1-(np.array(list(summary.filter(summary['summary'] == 'count').collect()[0].asDict().values())[1:], dtype=int))/rows_count\n",
    "mr_row = spark.createDataFrame([['missing_ratio']+[float(x)*100 for x in missing_ratio]], summary.columns)\n",
    "unique_row = customers.agg(*(F.countDistinct(F.col(c)).alias(c) for c in customers.columns)).withColumn('summary',F.lit('unique'))\n",
    "summary = summary.unionByName(mr_row)\n",
    "summary = summary.unionByName(unique_row)"
   ]
  },
  {
   "cell_type": "code",
   "execution_count": 14,
   "metadata": {},
   "outputs": [
    {
     "data": {
      "application/vnd.jupyter.widget-view+json": {
       "model_id": "b0a9048bcfab4586aab121706578bc92",
       "version_major": 2,
       "version_minor": 0
      },
      "text/plain": [
       "VBox()"
      ]
     },
     "metadata": {},
     "output_type": "display_data"
    },
    {
     "data": {
      "application/vnd.jupyter.widget-view+json": {
       "model_id": "",
       "version_major": 2,
       "version_minor": 0
      },
      "text/plain": [
       "FloatProgress(value=0.0, bar_style='info', description='Progress:', layout=Layout(height='25px', width='50%'),…"
      ]
     },
     "metadata": {},
     "output_type": "display_data"
    },
    {
     "name": "stdout",
     "output_type": "stream",
     "text": [
      "+---------------+-----------+-----------------------+--------------------+------------------+--------------------+------------------+----------------------+--------------------+\n",
      "| summary       |       age |            customerid | gender             | isocountrycode   | registrationdate   | regularstoreid   | unregistrationdate   | zipcode            |\n",
      "+===============+===========+=======================+====================+==================+====================+==================+======================+====================+\n",
      "| count         | 44138.000 |             49998.000 | 44006              | 49998            | 49998              | 49998            | 7                    | 41889              |\n",
      "+---------------+-----------+-----------------------+--------------------+------------------+--------------------+------------------+----------------------+--------------------+\n",
      "| mean          |    45.718 | 77023345636506448.000 | 0.4444444444444444 |                  |                    |                  |                      | 25916.29789647104  |\n",
      "+---------------+-----------+-----------------------+--------------------+------------------+--------------------+------------------+----------------------+--------------------+\n",
      "| stddev        |    11.768 |    85979900816156.281 | 0.8819171036881968 |                  |                    |                  |                      | 14756.114014752437 |\n",
      "+---------------+-----------+-----------------------+--------------------+------------------+--------------------+------------------+----------------------+--------------------+\n",
      "| min           |    17.000 | 77000000050013328.000 | 0                  | ES               | 2015-12-17         | ES0201           | 2017-08-31           | 00260              |\n",
      "+---------------+-----------+-----------------------+--------------------+------------------+--------------------+------------------+----------------------+--------------------+\n",
      "| 25%           |    38.000 | 77000000172872944.000 | 0.0                |                  |                    |                  |                      | 11510.0            |\n",
      "+---------------+-----------+-----------------------+--------------------+------------------+--------------------+------------------+----------------------+--------------------+\n",
      "| 50%           |    45.000 | 77000000288472592.000 | 0.0                |                  |                    |                  |                      | 28037.0            |\n",
      "+---------------+-----------+-----------------------+--------------------+------------------+--------------------+------------------+----------------------+--------------------+\n",
      "| 75%           |    54.000 | 77000000514664368.000 | 0.0                |                  |                    |                  |                      | 39011.0            |\n",
      "+---------------+-----------+-----------------------+--------------------+------------------+--------------------+------------------+----------------------+--------------------+\n",
      "| max           |   119.000 | 77340000025947696.000 | O                  | ES               | 2019-09-01         | ES7002           | 2019-09-03           | GX11-1AA           |\n",
      "+---------------+-----------+-----------------------+--------------------+------------------+--------------------+------------------+----------------------+--------------------+\n",
      "| missing_ratio |    11.720 |                 0.000 | 11.984479379175173 | 0.0              | 0.0                | 0.0              | 99.9859994399776     | 16.21864874594984  |\n",
      "+---------------+-----------+-----------------------+--------------------+------------------+--------------------+------------------+----------------------+--------------------+\n",
      "| unique        |    79.000 |             49724.000 | 5                  | 1                | 1139               | 551              | 6                    | 4082               |\n",
      "+---------------+-----------+-----------------------+--------------------+------------------+--------------------+------------------+----------------------+--------------------+"
     ]
    }
   ],
   "source": [
    "print(tabulate(summary.toPandas(), headers = 'keys', tablefmt = 'grid',showindex=False,floatfmt=\".3f\")) "
   ]
  },
  {
   "cell_type": "markdown",
   "metadata": {},
   "source": [
    "# Géneros"
   ]
  },
  {
   "cell_type": "code",
   "execution_count": 15,
   "metadata": {},
   "outputs": [
    {
     "data": {
      "application/vnd.jupyter.widget-view+json": {
       "model_id": "1789c123db12438490186941b354c3e5",
       "version_major": 2,
       "version_minor": 0
      },
      "text/plain": [
       "VBox()"
      ]
     },
     "metadata": {},
     "output_type": "display_data"
    },
    {
     "data": {
      "application/vnd.jupyter.widget-view+json": {
       "model_id": "",
       "version_major": 2,
       "version_minor": 0
      },
      "text/plain": [
       "FloatProgress(value=0.0, bar_style='info', description='Progress:', layout=Layout(height='25px', width='50%'),…"
      ]
     },
     "metadata": {},
     "output_type": "display_data"
    },
    {
     "name": "stdout",
     "output_type": "stream",
     "text": [
      "+----------+---------+\n",
      "| gender   |   count |\n",
      "+==========+=========+\n",
      "|          |    5992 |\n",
      "+----------+---------+\n",
      "| M        |   14792 |\n",
      "+----------+---------+\n",
      "| 0        |       7 |\n",
      "+----------+---------+\n",
      "| F        |   29155 |\n",
      "+----------+---------+\n",
      "| O        |      50 |\n",
      "+----------+---------+\n",
      "| 2        |       2 |\n",
      "+----------+---------+"
     ]
    }
   ],
   "source": [
    "# Cogemos los datos de la columna elegida y agregamos el count \n",
    "genders = customers.select(\"gender\").groupBy(\"gender\").count()\n",
    "genders_pd = genders.toPandas()\n",
    "print(tabulate(genders_pd, headers = 'keys', tablefmt = 'grid',showindex=False,floatfmt=\".3f\")) "
   ]
  },
  {
   "cell_type": "code",
   "execution_count": 16,
   "metadata": {},
   "outputs": [
    {
     "data": {
      "application/vnd.jupyter.widget-view+json": {
       "model_id": "aa5e3cd02a9a47f0a237078489f87850",
       "version_major": 2,
       "version_minor": 0
      },
      "text/plain": [
       "VBox()"
      ]
     },
     "metadata": {},
     "output_type": "display_data"
    },
    {
     "data": {
      "application/vnd.jupyter.widget-view+json": {
       "model_id": "",
       "version_major": 2,
       "version_minor": 0
      },
      "text/plain": [
       "FloatProgress(value=0.0, bar_style='info', description='Progress:', layout=Layout(height='25px', width='50%'),…"
      ]
     },
     "metadata": {},
     "output_type": "display_data"
    },
    {
     "name": "stdout",
     "output_type": "stream",
     "text": [
      "  gender  count\n",
      "0   None   5992\n",
      "1      M  14792\n",
      "2      0      7\n",
      "3      F  29155\n",
      "4      O     50\n",
      "5      2      2"
     ]
    }
   ],
   "source": [
    "genders_pd"
   ]
  },
  {
   "cell_type": "code",
   "execution_count": 17,
   "metadata": {},
   "outputs": [
    {
     "data": {
      "application/vnd.jupyter.widget-view+json": {
       "model_id": "913d2d6fab214a6ead526ff161a56666",
       "version_major": 2,
       "version_minor": 0
      },
      "text/plain": [
       "VBox()"
      ]
     },
     "metadata": {},
     "output_type": "display_data"
    },
    {
     "data": {
      "application/vnd.jupyter.widget-view+json": {
       "model_id": "",
       "version_major": 2,
       "version_minor": 0
      },
      "text/plain": [
       "FloatProgress(value=0.0, bar_style='info', description='Progress:', layout=Layout(height='25px', width='50%'),…"
      ]
     },
     "metadata": {},
     "output_type": "display_data"
    },
    {
     "data": {
      "image/png": "[encoded data removed]",
      "text/plain": [
       "<IPython.core.display.Image object>"
      ]
     },
     "metadata": {},
     "output_type": "display_data"
    }
   ],
   "source": [
    "#Visualizamos\n",
    "plt.clf()\n",
    "plt.figure(figsize=(10,6))\n",
    "splot = sns.barplot(y=\"count\", x=\"gender\", data=genders_pd.fillna('None'))\n",
    "for p in splot.patches:\n",
    "    splot.annotate(format(p.get_height(), '.1f'), \n",
    "                   (p.get_x() + p.get_width() / 2., p.get_height()+500), \n",
    "                   ha = 'center', va = 'center', \n",
    "                   xytext = (0, 0), \n",
    "                   textcoords = 'offset points')\n",
    "# splot.set_xticklabels(splot.get_xticklabels(), rotation=70)\n",
    "splot.set_title('Distribución de clientes por género')\n",
    "plt.ylabel('Número')\n",
    "# plt.yscale('logit')\n",
    "\n",
    "%matplot plt"
   ]
  },
  {
   "cell_type": "markdown",
   "metadata": {},
   "source": [
    "# Edad"
   ]
  },
  {
   "cell_type": "code",
   "execution_count": 18,
   "metadata": {},
   "outputs": [
    {
     "data": {
      "application/vnd.jupyter.widget-view+json": {
       "model_id": "580bb24f76e94df397bdff0f7abc15ad",
       "version_major": 2,
       "version_minor": 0
      },
      "text/plain": [
       "VBox()"
      ]
     },
     "metadata": {},
     "output_type": "display_data"
    },
    {
     "data": {
      "application/vnd.jupyter.widget-view+json": {
       "model_id": "",
       "version_major": 2,
       "version_minor": 0
      },
      "text/plain": [
       "FloatProgress(value=0.0, bar_style='info', description='Progress:', layout=Layout(height='25px', width='50%'),…"
      ]
     },
     "metadata": {},
     "output_type": "display_data"
    },
    {
     "data": {
      "image/png": "[encoded data removed]",
      "text/plain": [
       "<IPython.core.display.Image object>"
      ]
     },
     "metadata": {},
     "output_type": "display_data"
    }
   ],
   "source": [
    "# Plot age distribution\n",
    "customers_pd = customers.toPandas()\n",
    "fig, ax = plt.subplots(2, 1, sharex=True, figsize=(10, 8), gridspec_kw={\"height_ratios\": (.15, .85)})\n",
    "sns.boxplot(x=\"age\", data=customers_pd, ax=ax[0])\n",
    "sns.distplot(customers_pd[\"age\"].dropna(),bins=100,ax=ax[1])\n",
    "ax[0].set_title('Distribución de edad de los clientes')\n",
    "plt.ylabel('Densidad')\n",
    "%matplot plt"
   ]
  },
  {
   "cell_type": "code",
   "execution_count": 19,
   "metadata": {},
   "outputs": [
    {
     "data": {
      "application/vnd.jupyter.widget-view+json": {
       "model_id": "dcb60336abed4bcd888186790f452fef",
       "version_major": 2,
       "version_minor": 0
      },
      "text/plain": [
       "VBox()"
      ]
     },
     "metadata": {},
     "output_type": "display_data"
    },
    {
     "data": {
      "application/vnd.jupyter.widget-view+json": {
       "model_id": "",
       "version_major": 2,
       "version_minor": 0
      },
      "text/plain": [
       "FloatProgress(value=0.0, bar_style='info', description='Progress:', layout=Layout(height='25px', width='50%'),…"
      ]
     },
     "metadata": {},
     "output_type": "display_data"
    }
   ],
   "source": [
    "hist = customers.rdd\\\n",
    "  .map(lambda l: l['age'])\\\n",
    "  .histogram([1, 20, 35, 50, 65,150])"
   ]
  },
  {
   "cell_type": "code",
   "execution_count": 20,
   "metadata": {},
   "outputs": [
    {
     "data": {
      "application/vnd.jupyter.widget-view+json": {
       "model_id": "9449fd61abf34123a5c09e51be55ec23",
       "version_major": 2,
       "version_minor": 0
      },
      "text/plain": [
       "VBox()"
      ]
     },
     "metadata": {},
     "output_type": "display_data"
    },
    {
     "data": {
      "application/vnd.jupyter.widget-view+json": {
       "model_id": "",
       "version_major": 2,
       "version_minor": 0
      },
      "text/plain": [
       "FloatProgress(value=0.0, bar_style='info', description='Progress:', layout=Layout(height='25px', width='50%'),…"
      ]
     },
     "metadata": {},
     "output_type": "display_data"
    },
    {
     "name": "stdout",
     "output_type": "stream",
     "text": [
      "   age_range  count\n",
      "0          1    370\n",
      "1         20   7275\n",
      "2         35  20491\n",
      "3         50  13140\n",
      "4         65   2862"
     ]
    }
   ],
   "source": [
    "#Use zip to link age_ranges to their counts\n",
    "countTuples = zip(hist[0], hist[1])\n",
    "#make a list from that\n",
    "ageList = list(map(lambda l: Row(age_range=l[0], count=l[1]), countTuples))\n",
    "age_buckets = sc.parallelize(ageList).toDF().toPandas()\n",
    "age_buckets"
   ]
  },
  {
   "cell_type": "code",
   "execution_count": 21,
   "metadata": {},
   "outputs": [
    {
     "data": {
      "application/vnd.jupyter.widget-view+json": {
       "model_id": "9f643dc09dbe463fbc708740363a6616",
       "version_major": 2,
       "version_minor": 0
      },
      "text/plain": [
       "VBox()"
      ]
     },
     "metadata": {},
     "output_type": "display_data"
    },
    {
     "data": {
      "application/vnd.jupyter.widget-view+json": {
       "model_id": "",
       "version_major": 2,
       "version_minor": 0
      },
      "text/plain": [
       "FloatProgress(value=0.0, bar_style='info', description='Progress:', layout=Layout(height='25px', width='50%'),…"
      ]
     },
     "metadata": {},
     "output_type": "display_data"
    }
   ],
   "source": [
    "age_buckets = age_buckets.set_index('age_range').transpose()\\\n",
    "           .rename(columns={1: \"<20\", 20: \"20-34\", 35: \"35-49\", 50: \"50-64\", 65: \"+65\"})"
   ]
  },
  {
   "cell_type": "code",
   "execution_count": 22,
   "metadata": {},
   "outputs": [
    {
     "data": {
      "application/vnd.jupyter.widget-view+json": {
       "model_id": "961b54bd2ec04e5f9b5e228027a6c0c7",
       "version_major": 2,
       "version_minor": 0
      },
      "text/plain": [
       "VBox()"
      ]
     },
     "metadata": {},
     "output_type": "display_data"
    },
    {
     "data": {
      "application/vnd.jupyter.widget-view+json": {
       "model_id": "",
       "version_major": 2,
       "version_minor": 0
      },
      "text/plain": [
       "FloatProgress(value=0.0, bar_style='info', description='Progress:', layout=Layout(height='25px', width='50%'),…"
      ]
     },
     "metadata": {},
     "output_type": "display_data"
    }
   ],
   "source": [
    "age_buckets  = pd.DataFrame(age_buckets.T.to_records())"
   ]
  },
  {
   "cell_type": "code",
   "execution_count": 23,
   "metadata": {},
   "outputs": [
    {
     "data": {
      "application/vnd.jupyter.widget-view+json": {
       "model_id": "46ddb972cd6e47ff9307bae603237e85",
       "version_major": 2,
       "version_minor": 0
      },
      "text/plain": [
       "VBox()"
      ]
     },
     "metadata": {},
     "output_type": "display_data"
    },
    {
     "data": {
      "application/vnd.jupyter.widget-view+json": {
       "model_id": "",
       "version_major": 2,
       "version_minor": 0
      },
      "text/plain": [
       "FloatProgress(value=0.0, bar_style='info', description='Progress:', layout=Layout(height='25px', width='50%'),…"
      ]
     },
     "metadata": {},
     "output_type": "display_data"
    },
    {
     "data": {
      "image/png": "[encoded data removed]",
      "text/plain": [
       "<IPython.core.display.Image object>"
      ]
     },
     "metadata": {},
     "output_type": "display_data"
    }
   ],
   "source": [
    "#Visualizamos\n",
    "plt.clf()\n",
    "plt.figure(figsize=(10,6))\n",
    "splot = sns.barplot(y=\"count\", x=\"age_range\", data=age_buckets)\n",
    "for p in splot.patches:\n",
    "    splot.annotate(format(p.get_height(), '.1f'), \n",
    "                   (p.get_x() + p.get_width() / 2., p.get_height()+500), \n",
    "                   ha = 'center', va = 'center', \n",
    "                   xytext = (0, 0), \n",
    "                   textcoords = 'offset points')\n",
    "# splot.set_xticklabels(splot.get_xticklabels(), rotation=70)\n",
    "splot.set_title('Distribución de clientes por grupos de edad')\n",
    "plt.ylabel('Número')\n",
    "# plt.yscale('logit')\n",
    "\n",
    "%matplot plt"
   ]
  },
  {
   "cell_type": "markdown",
   "metadata": {},
   "source": [
    "# Fecha de registro"
   ]
  },
  {
   "cell_type": "code",
   "execution_count": 39,
   "metadata": {},
   "outputs": [
    {
     "data": {
      "application/vnd.jupyter.widget-view+json": {
       "model_id": "09cd7d887de8454e8d66573f8fa367e1",
       "version_major": 2,
       "version_minor": 0
      },
      "text/plain": [
       "VBox()"
      ]
     },
     "metadata": {},
     "output_type": "display_data"
    },
    {
     "data": {
      "application/vnd.jupyter.widget-view+json": {
       "model_id": "",
       "version_major": 2,
       "version_minor": 0
      },
      "text/plain": [
       "FloatProgress(value=0.0, bar_style='info', description='Progress:', layout=Layout(height='25px', width='50%'),…"
      ]
     },
     "metadata": {},
     "output_type": "display_data"
    }
   ],
   "source": [
    "df_groupedby_date = customers.select(F.date_format('registrationdate','yyyy-MM').alias('month')).groupby('month').count().toPandas()\n",
    "# df_groupedby_date = customers.groupby('registrationdate').count().toPandas()\n",
    "# df_groupedby_date.reset_index(inplace=True)\n",
    "# plt.plot_date(x=df_groupedby_date['Date'], y=df_groupedby_date['Value'])"
   ]
  },
  {
   "cell_type": "code",
   "execution_count": 48,
   "metadata": {},
   "outputs": [
    {
     "data": {
      "application/vnd.jupyter.widget-view+json": {
       "model_id": "26c44550ccc24615a35bf91b89397458",
       "version_major": 2,
       "version_minor": 0
      },
      "text/plain": [
       "VBox()"
      ]
     },
     "metadata": {},
     "output_type": "display_data"
    },
    {
     "data": {
      "application/vnd.jupyter.widget-view+json": {
       "model_id": "",
       "version_major": 2,
       "version_minor": 0
      },
      "text/plain": [
       "FloatProgress(value=0.0, bar_style='info', description='Progress:', layout=Layout(height='25px', width='50%'),…"
      ]
     },
     "metadata": {},
     "output_type": "display_data"
    },
    {
     "data": {
      "image/png": "[encoded data removed]",
      "text/plain": [
       "<IPython.core.display.Image object>"
      ]
     },
     "metadata": {},
     "output_type": "display_data"
    }
   ],
   "source": [
    "plt.clf()\n",
    "plt.figure(figsize=(10,8))\n",
    "sns.barplot(x=\"month\", y=\"count\", data=df_groupedby_date)\n",
    "plt.xticks(rotation=75)\n",
    "plt.xlabel('Mes')\n",
    "plt.ylabel('Número')\n",
    "plt.title('N° de registros por mes')\n",
    "plt.show()\n",
    "%matplot plt"
   ]
  }
 ],
 "metadata": {
  "kernelspec": {
   "display_name": "PySpark",
   "language": "",
   "name": "pysparkkernel"
  },
  "language_info": {
   "codemirror_mode": {
    "name": "python",
    "version": 2
   },
   "mimetype": "text/x-python",
   "name": "pyspark",
   "pygments_lexer": "python2"
  }
 },
 "nbformat": 4,
 "nbformat_minor": 4
}
